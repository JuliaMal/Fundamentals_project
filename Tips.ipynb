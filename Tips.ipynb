{
 "cells": [
  {
   "cell_type": "markdown",
   "metadata": {},
   "source": [
    "# GMIT - Fundamentals of Data Analysis\n",
    "## <font color='purple'>**Assessment 2019: Tips dataset Analysis**</font>\n",
    "\n",
    "![Image](https://www.tripsavvy.com/thmb/aXTGXSsrJi9QYh3RPCzNfLhu63E=/950x0/filters:no_upscale():max_bytes(150000):strip_icc():format(webp)/GettyImages-184868831-5c352fd746e0fb00017c4bc7.jpg)"
   ]
  },
  {
   "cell_type": "markdown",
   "metadata": {},
   "source": [
    "### __Table of Contents:__\n",
    "   [1.&emsp;Dataset Overview](#dataset)<br>\n",
    "   [2.&emsp;Descriptive Statistics](#descriptive)<br>\n",
    "   &emsp;&emsp;[-&emsp;Qualitative Data](#qualitative)<br>\n",
    "   &emsp;&emsp;[-&emsp;Quantitative Data](#quantitative)<br>\n",
    "   [3.&emsp;Outliers](#outliers)<br>\n",
    "   &emsp;&emsp;[-&emsp;name here](#name_here)<br>\n",
    "   [4.&emsp;Regression](#regression)<br>\n",
    "   &emsp;&emsp;[-&emsp;Correliation](#correlation)<br>\n",
    "   &emsp;&emsp;[-&emsp;Linear Regression](#linear)<br>\n",
    "   &emsp;&emsp;[-&emsp;Sclearn](#sclearn)<br>\n",
    "   [5.&emsp;Analysis](#analysis)<br>\n",
    "   &emsp;&emsp;[-&emsp;Name_here](#name_here)<br>\n",
    "   [6.&emsp;References](#ref)<br>"
   ]
  },
  {
   "cell_type": "markdown",
   "metadata": {},
   "source": [
    "<a id=\"dataset\"></a>"
   ]
  },
  {
   "cell_type": "markdown",
   "metadata": {},
   "source": [
    "### **About Tips dataset**\n",
    "Food servers’ tips in restaurants may be influenced by many factors, including the nature of the restaurant, size of the party, and table locations in the restaurant. Restaurant managers need to know which factors matter when they assign tables to food servers. For the sake of staff morale, they usually want to avoid either the substance or the appearance of unfair treatment of the servers, for whom tips (at least in restaurants in the United States) are a major component of pay. \n",
    "\n",
    "In one restaurant, a food server recorded the following data on all customers they served during an interval of two and a half months in early 1990. The restaurant, located in a suburban shopping mall, was part of a national chain and served a varied menu. In observance of local law, the restaurant offered to seat in a non-smoking section to patrons who requested it. \n",
    "\n",
    "**Each record includes:**\n",
    "-\tTotal bill - Total bill (cost of the meal), including tax, in US dollars\n",
    "-\tTip - Tip (gratuity) in US dollars\n",
    "-\tSex - Sex of person paying for the meal (male/female)\n",
    "-\tSmoker - Smoker in party? (No/Yes)\n",
    "-\tDay - Thursday, Friday, Saturday or Sunday\n",
    "-\tTime - Day or Night\n",
    "-\tSize - Size of the party"
   ]
  },
  {
   "cell_type": "code",
   "execution_count": 1,
   "metadata": {},
   "outputs": [],
   "source": [
    "# Importing the libraries\n",
    "import pandas as pd\n",
    "import numpy as np\n",
    "from scipy import stats\n",
    "import matplotlib.pyplot as plt\n",
    "import matplotlib\n",
    "import statsmodels.api as sm\n",
    "import statsmodels.stats.api as sms\n",
    "import statsmodels.stats.diagnostic as smd\n",
    "import statsmodels.formula.api as smf\n",
    "from statsmodels.compat import lzip\n",
    "import seaborn as sns\n",
    "import sklearn.neighbors as nei\n",
    "import sklearn.model_selection as mod\n",
    "sns.set(color_codes=True)"
   ]
  },
  {
   "cell_type": "code",
   "execution_count": 2,
   "metadata": {},
   "outputs": [
    {
     "data": {
      "text/html": [
       "<div>\n",
       "<style scoped>\n",
       "    .dataframe tbody tr th:only-of-type {\n",
       "        vertical-align: middle;\n",
       "    }\n",
       "\n",
       "    .dataframe tbody tr th {\n",
       "        vertical-align: top;\n",
       "    }\n",
       "\n",
       "    .dataframe thead th {\n",
       "        text-align: right;\n",
       "    }\n",
       "</style>\n",
       "<table border=\"1\" class=\"dataframe\">\n",
       "  <thead>\n",
       "    <tr style=\"text-align: right;\">\n",
       "      <th></th>\n",
       "      <th>total_bill</th>\n",
       "      <th>tip</th>\n",
       "      <th>sex</th>\n",
       "      <th>smoker</th>\n",
       "      <th>day</th>\n",
       "      <th>time</th>\n",
       "      <th>size</th>\n",
       "    </tr>\n",
       "  </thead>\n",
       "  <tbody>\n",
       "    <tr>\n",
       "      <th>0</th>\n",
       "      <td>16.99</td>\n",
       "      <td>1.01</td>\n",
       "      <td>Female</td>\n",
       "      <td>No</td>\n",
       "      <td>Sun</td>\n",
       "      <td>Dinner</td>\n",
       "      <td>2</td>\n",
       "    </tr>\n",
       "    <tr>\n",
       "      <th>1</th>\n",
       "      <td>10.34</td>\n",
       "      <td>1.66</td>\n",
       "      <td>Male</td>\n",
       "      <td>No</td>\n",
       "      <td>Sun</td>\n",
       "      <td>Dinner</td>\n",
       "      <td>3</td>\n",
       "    </tr>\n",
       "    <tr>\n",
       "      <th>2</th>\n",
       "      <td>21.01</td>\n",
       "      <td>3.50</td>\n",
       "      <td>Male</td>\n",
       "      <td>No</td>\n",
       "      <td>Sun</td>\n",
       "      <td>Dinner</td>\n",
       "      <td>3</td>\n",
       "    </tr>\n",
       "    <tr>\n",
       "      <th>3</th>\n",
       "      <td>23.68</td>\n",
       "      <td>3.31</td>\n",
       "      <td>Male</td>\n",
       "      <td>No</td>\n",
       "      <td>Sun</td>\n",
       "      <td>Dinner</td>\n",
       "      <td>2</td>\n",
       "    </tr>\n",
       "    <tr>\n",
       "      <th>4</th>\n",
       "      <td>24.59</td>\n",
       "      <td>3.61</td>\n",
       "      <td>Female</td>\n",
       "      <td>No</td>\n",
       "      <td>Sun</td>\n",
       "      <td>Dinner</td>\n",
       "      <td>4</td>\n",
       "    </tr>\n",
       "  </tbody>\n",
       "</table>\n",
       "</div>"
      ],
      "text/plain": [
       "   total_bill   tip     sex smoker  day    time  size\n",
       "0       16.99  1.01  Female     No  Sun  Dinner     2\n",
       "1       10.34  1.66    Male     No  Sun  Dinner     3\n",
       "2       21.01  3.50    Male     No  Sun  Dinner     3\n",
       "3       23.68  3.31    Male     No  Sun  Dinner     2\n",
       "4       24.59  3.61  Female     No  Sun  Dinner     4"
      ]
     },
     "execution_count": 2,
     "metadata": {},
     "output_type": "execute_result"
    }
   ],
   "source": [
    "# Importing the tips dataset from the local file\n",
    "df = pd.read_csv(\"Tips.csv\")\n",
    "df.head()"
   ]
  },
  {
   "cell_type": "markdown",
   "metadata": {},
   "source": [
    "<a id=\"descriptive\"></a>"
   ]
  },
  {
   "cell_type": "markdown",
   "metadata": {},
   "source": [
    "### **<font color='purple'>Descriptive statistics</font>**"
   ]
  },
  {
   "cell_type": "markdown",
   "metadata": {},
   "source": [
    "<a id=\"qualitative\"></a>"
   ]
  },
  {
   "cell_type": "markdown",
   "metadata": {},
   "source": [
    "#### **Qualitative Data**\n",
    "\n",
    "Qualitative data cannot be expressed as a number. Data that represent nominal scales such as gender, socieo economic status, religiouspreference are usually considered to be qualitative data.\n",
    "\n",
    "The Tips dataset includes the following Qualitative data:\n",
    "- Sex\n",
    "- Smoker\n",
    "- Day\n",
    "- Time"
   ]
  },
  {
   "cell_type": "markdown",
   "metadata": {},
   "source": [
    "Let's check how the qualitative data are distributed in our sample dataset. In the graphs below we are checking if our dataset has equal amount of Female vs Male, Non-smokers vs Smokers, how many Lunches vs Dinners were recorded and if we had the same amount of records done every  day within 4 days (from Thursday to Sunday)."
   ]
  },
  {
   "cell_type": "code",
   "execution_count": 3,
   "metadata": {},
   "outputs": [
    {
     "data": {
      "text/plain": [
       "<matplotlib.axes._subplots.AxesSubplot at 0x264808e2f98>"
      ]
     },
     "execution_count": 3,
     "metadata": {},
     "output_type": "execute_result"
    },
    {
     "data": {
      "image/png": "[encoded data removed]",
      "text/plain": [
       "<Figure size 432x288 with 1 Axes>"
      ]
     },
     "metadata": {},
     "output_type": "display_data"
    }
   ],
   "source": [
    "sns.set_style(\"whitegrid\")\n",
    "sns.countplot( x=\"sex\", data=df, palette=\"BuPu\")"
   ]
  },
  {
   "cell_type": "code",
   "execution_count": 4,
   "metadata": {},
   "outputs": [
    {
     "data": {
      "text/plain": [
       "<matplotlib.axes._subplots.AxesSubplot at 0x26480bf94a8>"
      ]
     },
     "execution_count": 4,
     "metadata": {},
     "output_type": "execute_result"
    },
    {
     "data": {
      "image/png": "[encoded data removed]",
      "text/plain": [
       "<Figure size 432x288 with 1 Axes>"
      ]
     },
     "metadata": {},
     "output_type": "display_data"
    }
   ],
   "source": [
    "sns.countplot(x=\"smoker\", data=df, palette=\"BuPu\")"
   ]
  },
  {
   "cell_type": "markdown",
   "metadata": {},
   "source": [
    "As we can see from the graphs above, our sample contains more Males than Females as well as more Non-smokers rathen than smokers."
   ]
  },
  {
   "cell_type": "code",
   "execution_count": 5,
   "metadata": {},
   "outputs": [
    {
     "data": {
      "text/plain": [
       "<matplotlib.axes._subplots.AxesSubplot at 0x26480c50b00>"
      ]
     },
     "execution_count": 5,
     "metadata": {},
     "output_type": "execute_result"
    },
    {
     "data": {
      "image/png": "[encoded data removed]",
      "text/plain": [
       "<Figure size 432x288 with 1 Axes>"
      ]
     },
     "metadata": {},
     "output_type": "display_data"
    }
   ],
   "source": [
    "sns.countplot(x=\"time\", data=df, palette=\"BuPu\")"
   ]
  },
  {
   "cell_type": "markdown",
   "metadata": {},
   "source": [
    "This chart shows that number of Dinners and Lunches is not equal in our sample as well. The dataset contains more records for Dinner rather than for Lunch."
   ]
  },
  {
   "cell_type": "code",
   "execution_count": 6,
   "metadata": {},
   "outputs": [
    {
     "data": {
      "text/plain": [
       "<matplotlib.axes._subplots.AxesSubplot at 0x26480cdbf60>"
      ]
     },
     "execution_count": 6,
     "metadata": {},
     "output_type": "execute_result"
    },
    {
     "data": {
      "image/png": "[encoded data removed]",
      "text/plain": [
       "<Figure size 432x288 with 1 Axes>"
      ]
     },
     "metadata": {},
     "output_type": "display_data"
    }
   ],
   "source": [
    "order = [\"Thur\", \"Fri\", \"Sat\", \"Sun\"]\n",
    "sns.countplot(x=\"day\", data=df, palette=\"BuPu\",order=order)"
   ]
  },
  {
   "cell_type": "markdown",
   "metadata": {},
   "source": [
    "The bar chart above shows that the more customers were during Saturday and Sunday, the least - on Friday."
   ]
  },
  {
   "cell_type": "markdown",
   "metadata": {},
   "source": [
    "<a id=\"quantitative\"></a>"
   ]
  },
  {
   "cell_type": "markdown",
   "metadata": {},
   "source": [
    "#### **Quantitative Data**"
   ]
  },
  {
   "cell_type": "markdown",
   "metadata": {},
   "source": [
    "Quatitative data are anything that can be expressed as a number, orquantified. Examples of quantitative data are scores on achievement tests, number of hours of study, or weight of a subject. These data may be represented by ordinal, interval or ratio scales and lend themselves to most statistical manipulation.\n",
    "\n",
    "The Tips dataset includes the following Quantitative data:\n",
    "- total bill\n",
    "- tip\n",
    "- size of the party"
   ]
  },
  {
   "cell_type": "markdown",
   "metadata": {},
   "source": [
    "##### **Basic statistics with _.descibe()_**"
   ]
  },
  {
   "cell_type": "markdown",
   "metadata": {},
   "source": [
    "_.describe()_ is used to see a number of basic statistics about the column, such as the mean, min, max, and standard deviation. This can give you a quick overview of the shape of the data."
   ]
  },
  {
   "cell_type": "markdown",
   "metadata": {},
   "source": [
    "Let's apply this function to a particular column of our dataset - Total bill:"
   ]
  },
  {
   "cell_type": "code",
   "execution_count": 7,
   "metadata": {},
   "outputs": [
    {
     "data": {
      "text/plain": [
       "count    244.000000\n",
       "mean      19.785943\n",
       "std        8.902412\n",
       "min        3.070000\n",
       "25%       13.347500\n",
       "50%       17.795000\n",
       "75%       24.127500\n",
       "max       50.810000\n",
       "Name: total_bill, dtype: float64"
      ]
     },
     "execution_count": 7,
     "metadata": {},
     "output_type": "execute_result"
    }
   ],
   "source": [
    "df['total_bill'].describe()"
   ]
  },
  {
   "cell_type": "markdown",
   "metadata": {},
   "source": [
    "Here's a quick breakdown of the above:\n",
    "\n",
    "- _**count**:_ there are 244 rows in the dataset.\n",
    "- _**mean**:_ the average bill.\n",
    "- _**std**:_ the standard deviation. Standard Deviation tells how measurements for a group are spread out from the average (mean), or expected value. A low standard deviation means that most of the numbers are close to the average. A high standard deviation means that the numbers are more spread out. In our case the measurememnts of a total bill are spread of 8.9 to the left and to the right from the average bill (mean). \n",
    "- _**min**:_ the smallest bill in the dataset = 3.07 USD\n",
    "- _**25%**:_ the 25th percentile. 25% of all bills are lower than 13.35 USD.\n",
    "- _**50%**:_ the 50th percentile, or the median. 50% of bills are lower than 13.80 USD.\n",
    "- _**75%**:_ the 75th percentile. 75% of bills are lower than 24.13 USD.\n",
    "- _**max**:_ the highest bill = 50.81 USD."
   ]
  },
  {
   "cell_type": "markdown",
   "metadata": {},
   "source": [
    "Also we can visually represent the distribution of the total bills using a **histogram**.\n",
    "\n",
    "Histogram shows frequency distribution for a particular column in a dataset. For instance, if we want to see how many times the amount of total_bill is between 10-20, 20-30, 30-40 and so on, we can use a histogram."
   ]
  },
  {
   "cell_type": "code",
   "execution_count": 8,
   "metadata": {},
   "outputs": [
    {
     "data": {
      "text/plain": [
       "<matplotlib.axes._subplots.AxesSubplot at 0x26480d29668>"
      ]
     },
     "execution_count": 8,
     "metadata": {},
     "output_type": "execute_result"
    },
    {
     "data": {
      "image/png": "[encoded data removed]",
      "text/plain": [
       "<Figure size 432x288 with 1 Axes>"
      ]
     },
     "metadata": {},
     "output_type": "display_data"
    }
   ],
   "source": [
    "sns.set_style(\"whitegrid\")\n",
    "sns.distplot(df['total_bill'], color=\"rebeccapurple\")"
   ]
  },
  {
   "cell_type": "markdown",
   "metadata": {},
   "source": [
    "From this histogram we can see that the most of the bills fall into area betweem 10 and 20 USD.\n",
    "\n",
    "If we check the value of the median and mean, we'll notice that the median is less than the mean. This explains the right skewness of the histogram."
   ]
  },
  {
   "cell_type": "markdown",
   "metadata": {},
   "source": [
    "Now let's look at the Tip distribution:"
   ]
  },
  {
   "cell_type": "code",
   "execution_count": 9,
   "metadata": {},
   "outputs": [
    {
     "data": {
      "text/plain": [
       "count    244.000000\n",
       "mean       2.998279\n",
       "std        1.383638\n",
       "min        1.000000\n",
       "25%        2.000000\n",
       "50%        2.900000\n",
       "75%        3.562500\n",
       "max       10.000000\n",
       "Name: tip, dtype: float64"
      ]
     },
     "execution_count": 9,
     "metadata": {},
     "output_type": "execute_result"
    }
   ],
   "source": [
    "df['tip'].describe()"
   ]
  },
  {
   "cell_type": "markdown",
   "metadata": {},
   "source": [
    "As we can see the average tip is equal to 3 USD and standard deviation is 1.38. We have a _**small standard deviation**_. The small (low) standard deviation indicates that the values tend to be close to the mean of the set, while a _**high standard deviation**_ indicates that the values are spread out over a wider range.\n",
    "\n",
    "The smallest tip is equal to 1 USD, and the highest - 10 USD. Median is 2.9 USD.\n",
    "\n",
    "Let's look at the histogram of the tip distribution:"
   ]
  },
  {
   "cell_type": "code",
   "execution_count": 10,
   "metadata": {},
   "outputs": [
    {
     "data": {
      "text/plain": [
       "<matplotlib.axes._subplots.AxesSubplot at 0x26480db5940>"
      ]
     },
     "execution_count": 10,
     "metadata": {},
     "output_type": "execute_result"
    },
    {
     "data": {
      "image/png": "[encoded data removed]",
      "text/plain": [
       "<Figure size 432x288 with 1 Axes>"
      ]
     },
     "metadata": {},
     "output_type": "display_data"
    }
   ],
   "source": [
    "sns.distplot(df['tip'], color=\"rebeccapurple\")"
   ]
  },
  {
   "cell_type": "markdown",
   "metadata": {},
   "source": [
    "The median is smaller then the mean value, therefore our histogram is positive-skewed as well."
   ]
  },
  {
   "cell_type": "markdown",
   "metadata": {},
   "source": [
    "<a id=\"outliers\"></a>"
   ]
  },
  {
   "cell_type": "markdown",
   "metadata": {},
   "source": [
    "#### **Outliers**"
   ]
  },
  {
   "cell_type": "markdown",
   "metadata": {},
   "source": [
    "In statistics, an _**outlier**_ is an observation point that is distant from other observations.\n",
    "The above definition suggests that outlier is something which is separate/different from the population/sample.\n",
    "\n",
    "There are few visualization tools to discover outliers:\n",
    "- Box plot\n",
    "- Scatter plot\n",
    "- Z-Score\n",
    "- IQR score\n"
   ]
  },
  {
   "cell_type": "markdown",
   "metadata": {},
   "source": [
    "**Box plot**\n",
    "\n",
    "According to the Wikipedia  a _**box plot**_ is a method for graphically depicting groups of numerical data through their quartiles. Box plots may also have lines extending vertically from the boxes (whiskers) indicating variability outside the upper and lower quartiles, hence the terms box-and-whisker plot and box-and-whisker diagram. Outliers may be plotted as individual points. If there is an outlier it will plotted as point in boxplot but other population will be grouped together and display as boxes. Let’s try and see it ourselves."
   ]
  },
  {
   "cell_type": "code",
   "execution_count": 11,
   "metadata": {},
   "outputs": [
    {
     "data": {
      "text/plain": [
       "<matplotlib.axes._subplots.AxesSubplot at 0x26480daa898>"
      ]
     },
     "execution_count": 11,
     "metadata": {},
     "output_type": "execute_result"
    },
    {
     "data": {
      "image/png": "[encoded data removed]",
      "text/plain": [
       "<Figure size 1440x360 with 1 Axes>"
      ]
     },
     "metadata": {},
     "output_type": "display_data"
    }
   ],
   "source": [
    "plt.figure(figsize=(20,5))\n",
    "\n",
    "sns.boxplot(df['total_bill'], color=\"rebeccapurple\")"
   ]
  },
  {
   "cell_type": "markdown",
   "metadata": {},
   "source": [
    "Let's get the values of the Oultiers:"
   ]
  },
  {
   "cell_type": "code",
   "execution_count": 12,
   "metadata": {},
   "outputs": [
    {
     "name": "stdout",
     "output_type": "stream",
     "text": [
      "[40.55 41.19 43.11 44.3  45.35 48.17 48.27 48.33 50.81]\n"
     ]
    }
   ],
   "source": [
    "from matplotlib.cbook import boxplot_stats\n",
    "\n",
    "sorted_array = np.sort(boxplot_stats(df['total_bill']).pop(0)['fliers'])\n",
    "print(sorted_array)"
   ]
  },
  {
   "cell_type": "markdown",
   "metadata": {},
   "source": [
    "As we can see from the box plot all bills, that are higher than 40 USD have been marked as outliers. In our case the box plot highlighted 9 Outliers."
   ]
  },
  {
   "cell_type": "markdown",
   "metadata": {},
   "source": [
    "**Scatter plot**\n",
    "\n",
    "A _**scatter plot**_ is a type of plot or mathematical diagram using Cartesian coordinates to display values for typically two variables for a set of data. The data are displayed as a collection of points, each having the value of one variable determining the position on the horizontal axis and the value of the other variable determining the position on the vertical axis.\n",
    "\n",
    "The scatter plot is the collection of points that shows values for two variables. We can try and draw scatter plot for two variables (total bill and tips) from our Tips dataset."
   ]
  },
  {
   "cell_type": "code",
   "execution_count": 13,
   "metadata": {},
   "outputs": [
    {
     "data": {
      "text/plain": [
       "<matplotlib.collections.PathCollection at 0x264810ccf28>"
      ]
     },
     "execution_count": 13,
     "metadata": {},
     "output_type": "execute_result"
    },
    {
     "data": {
      "image/png": "[encoded data removed]",
      "text/plain": [
       "<Figure size 432x288 with 1 Axes>"
      ]
     },
     "metadata": {},
     "output_type": "display_data"
    }
   ],
   "source": [
    "plt.scatter(df['total_bill'], df['tip'], color=\"rebeccapurple\")"
   ]
  },
  {
   "cell_type": "markdown",
   "metadata": {},
   "source": [
    "Looking at the plot above, we can see that most of data points are lying bottom left side but there are points which are far from the population like top right corner. These are potential outliers."
   ]
  },
  {
   "cell_type": "markdown",
   "metadata": {},
   "source": [
    "**Z-score**\n",
    "\n",
    "The _**Z-score**_ is the signed number of standard deviations by which the value of an observation or data point is above the mean value of what is being observed or measured.\n",
    "\n",
    "The intuition behind Z-score is to describe any data point by finding their relationship with the Standard Deviation and Mean of the group of data points. Z-score is finding the distribution of data where mean is 0 and standard deviation is 1 i.e. normal distribution.\n",
    "\n",
    "While calculating the Z-score we re-scale and center the data and look for data points which are too far from zero. These data points which are way too far from zero will be treated as the outliers. Any z-score greater than 3 or less than -3 is considered to be an outlier. This rule of thumb is based on the empirical rule. From this rule we see that almost all of the data (99.7%) should be within three standard deviations from the mean. However if the thershold is less than -2 or greater than 2, we might identify the possible outliers. From this rule we see that almost all of the data (95%) should be within two standard deviations from the mean."
   ]
  },
  {
   "cell_type": "code",
   "execution_count": 14,
   "metadata": {},
   "outputs": [
    {
     "name": "stdout",
     "output_type": "stream",
     "text": [
      "[3.14711305e-01 1.06323531e+00 1.37779900e-01 4.38315103e-01\n",
      " 5.40744704e-01 6.19536705e-01 1.23995452e+00 7.98507107e-01\n",
      " 5.34203307e-01 5.63468908e-01 1.07111451e+00 1.74175992e+00\n",
      " 4.91430507e-01 1.52624903e-01 5.57840908e-01 2.01939101e-01\n",
      " 1.06436091e+00 3.93503306e-01 3.16962505e-01 9.72582994e-02\n",
      " 2.10030504e-01 5.67366990e-02 4.52034507e-01 2.21000952e+00\n",
      " 3.83349840e-03 2.22412104e-01 7.22178510e-01 7.98719310e-01\n",
      " 2.15446301e-01 1.53017018e-02 1.15215771e+00 1.61629703e-01\n",
      " 5.31952107e-01 1.01760699e-01 2.25788904e-01 4.81087904e-01\n",
      " 3.91252106e-01 3.21464905e-01 1.23359303e-01 1.29264551e+00\n",
      " 4.21643306e-01 2.61808105e-01 6.58019309e-01 1.13752491e+00\n",
      " 1.19471831e+00 1.68383303e-01 2.75103101e-01 1.41983831e+00\n",
      " 9.86482309e-01 1.96523304e-01 8.15603311e-01 1.06886331e+00\n",
      " 1.69110792e+00 1.10825931e+00 6.49927905e-01 3.33113020e-02\n",
      " 2.05129992e+00 7.45603907e-01 9.61931312e-01 3.20616553e+00\n",
      " 5.67366990e-02 6.72652109e-01 9.86694512e-01 1.68383303e-01\n",
      " 2.47175304e-01 3.30990987e-02 3.75493706e-01 1.88154652e+00\n",
      " 4.99830989e-02 5.37580108e-01 8.74134511e-01 3.05706505e-01\n",
      " 7.96255907e-01 6.18411105e-01 5.69096908e-01 1.04410011e+00\n",
      " 2.10030504e-01 8.34526308e-01 3.34759902e-01 2.80943305e-01\n",
      " 3.89393021e-02 3.51856105e-01 1.09362651e+00 1.45135511e+00\n",
      " 4.28396906e-01 1.69335912e+00 7.60448910e-01 1.69508903e-01\n",
      " 5.54251904e-01 1.54663900e-01 1.03375751e+00 3.04368702e-01\n",
      " 1.57988572e+00 3.90126506e-01 3.33634302e-01 2.29442952e+00\n",
      " 8.43531108e-01 8.73008911e-01 1.37779900e-01 8.24608111e-01\n",
      " 9.49549712e-01 4.95932907e-01 2.75930233e+00 2.96489502e-01\n",
      " 1.27649500e-01 4.98184107e-01 7.92486992e-02 6.10531905e-01\n",
      " 1.74011304e-01 6.16372108e-01 6.51265709e-01 1.41104572e+00\n",
      " 2.05805352e+00 4.68706304e-01 6.66811906e-01 2.78692105e-01\n",
      " 1.14181511e+00 1.02834171e+00 8.27984911e-01 4.83339104e-01\n",
      " 9.11279312e-01 7.16550509e-01 6.22000108e-01 4.31773706e-01\n",
      " 8.22356911e-01 1.12718231e+00 1.26809452e+00 5.92734508e-01\n",
      " 9.46172912e-01 3.41513502e-01 7.94609025e-02 5.44854990e-02\n",
      " 9.69810512e-01 8.47120111e-01 1.71760104e-01 1.26922012e+00\n",
      " 1.06436091e+00 6.34381709e-01 4.26145706e-01 7.45816110e-01\n",
      " 2.60682504e-01 1.63370232e+00 2.40924072e+00 8.17642307e-01\n",
      " 3.77744906e-01 1.28722972e+00 1.28987303e-01 8.91018511e-01\n",
      " 1.12626891e+00 1.38178012e+00 6.43386509e-01 7.49192910e-01\n",
      " 2.84320105e-01 5.36242304e-01 1.79450166e-03 1.13281031e+00\n",
      " 3.19490953e+00 5.86894305e-01 7.19927310e-01 3.70991306e-01\n",
      " 1.92934300e-01 8.02096110e-01 4.02508106e-01 6.72652109e-01\n",
      " 2.56180104e-01 5.32865504e-01 1.09639900e-01 1.34217191e+00\n",
      " 1.03509531e+00 1.03059291e+00 3.49206794e+00 4.47532107e-01\n",
      " 1.41104572e+00 1.35793031e+00 3.33846505e-01 1.47611831e+00\n",
      " 2.13407304e-01 5.97236908e-01 1.14652971e+00 1.67084712e+00\n",
      " 1.67309832e+00 3.98919103e-01 2.87749033e+00 3.80909503e-01\n",
      " 2.33720232e+00 1.01760699e-01 1.25398300e-01 1.20147191e+00\n",
      " 1.84141704e-01 3.73030302e-01 4.61039307e-01 2.70789839e-03\n",
      " 9.74100709e-01 4.84676907e-01 3.60860906e-01 1.37615212e+00\n",
      " 1.06323531e+00 2.62535593e+00 7.63825710e-01 7.06420109e-01\n",
      " 1.21108103e-01 7.93091310e-01 7.63825710e-01 3.81121706e-01\n",
      " 8.37510993e-02 3.73242506e-01 7.65864707e-01 2.13234312e+00\n",
      " 5.04725504e-01 7.90840110e-01 1.15644791e+00 6.87072706e-01\n",
      " 3.21291913e+00 7.33434510e-01 9.43709509e-01 7.75081710e-01\n",
      " 9.41458309e-01 9.22535312e-01 1.35589132e+00 1.16545271e+00\n",
      " 8.58376111e-01 7.16550509e-01 1.26134092e+00 4.28396906e-01\n",
      " 7.16550509e-01 3.95754506e-01 1.09137531e+00 7.47462992e-02\n",
      " 7.32308910e-01 2.62721501e-01 4.75459904e-01 4.61039307e-01\n",
      " 9.20284112e-01 1.01483451e+00 4.79048907e-01 1.09362651e+00\n",
      " 8.08849711e-01 1.46823911e+00 1.80591912e+00 1.04051111e+00\n",
      " 8.32275107e-01 3.24629502e-01 2.21286504e-01 1.13228903e-01]\n"
     ]
    }
   ],
   "source": [
    "z = np.abs(stats.zscore(df['total_bill']))\n",
    "print(z)"
   ]
  },
  {
   "cell_type": "markdown",
   "metadata": {},
   "source": [
    "Looking the code and the output above, it is difficult to say which data point is an outlier. Let’s try and define a threshold to identify an outlier."
   ]
  },
  {
   "cell_type": "code",
   "execution_count": 15,
   "metadata": {},
   "outputs": [
    {
     "name": "stdout",
     "output_type": "stream",
     "text": [
      "(array([ 59, 156, 170, 212], dtype=int64),)\n"
     ]
    }
   ],
   "source": [
    "# treshhold = 3\n",
    "print(np.where(z > 3))"
   ]
  },
  {
   "cell_type": "markdown",
   "metadata": {},
   "source": [
    "The output contains the list of row numbers. Let's look for a total bill values for these rows:"
   ]
  },
  {
   "cell_type": "code",
   "execution_count": 16,
   "metadata": {},
   "outputs": [
    {
     "name": "stdout",
     "output_type": "stream",
     "text": [
      "59     48.27\n",
      "156    48.17\n",
      "170    50.81\n",
      "212    48.33\n",
      "Name: total_bill, dtype: float64\n"
     ]
    }
   ],
   "source": [
    "print(df['total_bill'][[59, 156, 170, 212]])"
   ]
  },
  {
   "cell_type": "markdown",
   "metadata": {},
   "source": [
    "When we were detecting outliers using Box plotting we got 9 Outliers, however in Z-score we got only 4. Why there is a difference? Using Z-score method we identified the outliers using the treshhold |3|, but we didn't capture the potential outliers. Now we reduce the threshold value to |2| and see if there are any potential outliers:"
   ]
  },
  {
   "cell_type": "code",
   "execution_count": 17,
   "metadata": {},
   "outputs": [
    {
     "name": "stdout",
     "output_type": "stream",
     "text": [
      "(array([ 23,  56,  59,  95, 102, 112, 142, 156, 170, 182, 184, 197, 207,\n",
      "       212], dtype=int64),)\n"
     ]
    }
   ],
   "source": [
    "# treshhold = 2\n",
    "print(np.where(z > 2))"
   ]
  },
  {
   "cell_type": "markdown",
   "metadata": {},
   "source": [
    "As you can see the output array includes the actual outliers we got when the threshold was greater than 3. But we can see some new records there. Le'ts check the total bill values for them:"
   ]
  },
  {
   "cell_type": "code",
   "execution_count": 18,
   "metadata": {},
   "outputs": [
    {
     "name": "stdout",
     "output_type": "stream",
     "text": [
      "23     39.42\n",
      "56     38.01\n",
      "95     40.17\n",
      "102    44.30\n",
      "112    38.07\n",
      "142    41.19\n",
      "182    45.35\n",
      "184    40.55\n",
      "197    43.11\n",
      "207    38.73\n",
      "Name: total_bill, dtype: float64\n"
     ]
    }
   ],
   "source": [
    "print(df['total_bill'][[23, 56, 95, 102, 112, 142, 182, 184, 197, 207]])"
   ]
  },
  {
   "cell_type": "markdown",
   "metadata": {},
   "source": [
    "These potential outliers falling into 4.7% group (99.7% - 95%), between two and three standard deviations."
   ]
  },
  {
   "cell_type": "markdown",
   "metadata": {},
   "source": [
    "**IQR score**\n",
    "\n",
    "The _**interquartile range (IQR)**_, also called the midspread or middle 50%, or technically H-spread, is a measure of statistical dispersion, being equal to the difference between 75th and 25th percentiles, or between upper and lower quartiles, IQR = Q3 − Q1.\n",
    "\n",
    "In other words, the IQR is the first quartile subtracted from the third quartile; these quartiles can be clearly seen on a box plot on the data. It is a measure of the dispersion similar to standard deviation or variance but is much more robust against outliers. IQR is somewhat similar to Z-score in terms of finding the distribution of data and then keeping some threshold to identify the outlier.\n",
    "\n",
    "Let’s find out we can box plot uses IQR and how we can use it to find the list of outliers as we did using Z-score calculation. First, we will calculate IQR:"
   ]
  },
  {
   "cell_type": "code",
   "execution_count": 19,
   "metadata": {},
   "outputs": [
    {
     "name": "stdout",
     "output_type": "stream",
     "text": [
      "10.779999999999998\n"
     ]
    }
   ],
   "source": [
    "# as an example, we are calculating IQE for total bill\n",
    "\n",
    "Q1 = df['total_bill'].quantile(0.25)\n",
    "Q3 = df['total_bill'].quantile(0.75)\n",
    "IQR = Q3 - Q1\n",
    "\n",
    "print(IQR)"
   ]
  },
  {
   "cell_type": "markdown",
   "metadata": {},
   "source": [
    "As we now have the IQR scores, it’s time to get hold on outliers. The below code will give an output with some true and false values. The data point where we have False that means these values are valid whereas True indicates presence of an outlier."
   ]
  },
  {
   "cell_type": "code",
   "execution_count": 20,
   "metadata": {},
   "outputs": [
    {
     "data": {
      "text/plain": [
       "[59, 102, 142, 156, 170, 182, 184, 197, 212]"
      ]
     },
     "execution_count": 20,
     "metadata": {},
     "output_type": "execute_result"
    }
   ],
   "source": [
    "Outlier = (df['total_bill'] < (Q1 - 1.5 * IQR))|(df['total_bill']> (Q3 + 1.5 * IQR))\n",
    "[i for i, x in enumerate(Outlier) if x]"
   ]
  },
  {
   "cell_type": "code",
   "execution_count": 21,
   "metadata": {},
   "outputs": [
    {
     "name": "stdout",
     "output_type": "stream",
     "text": [
      "59     48.27\n",
      "102    44.30\n",
      "142    41.19\n",
      "156    48.17\n",
      "170    50.81\n",
      "182    45.35\n",
      "184    40.55\n",
      "197    43.11\n",
      "212    48.33\n",
      "Name: total_bill, dtype: float64\n"
     ]
    }
   ],
   "source": [
    "print(df['total_bill'][[59, 102, 142, 156, 170, 182, 184, 197, 212]])"
   ]
  },
  {
   "cell_type": "markdown",
   "metadata": {},
   "source": [
    "We got 9 Outliers - the same as using the box plot. These 9 records were highlighted as potential outliers using Z-score method as well.\n"
   ]
  },
  {
   "cell_type": "markdown",
   "metadata": {},
   "source": [
    " \n",
    "**Summary**: \n",
    "We have tested three different methods to identify the outliers:\n",
    "\n",
    "| Box plot    |Z-score: Potential |Z-score: Actual|   IQR   |\n",
    "|-------------|-------------------|---------------|---------|\n",
    "|             |        38.01      |               |         |\n",
    "|             |        38.07      |               |         |\n",
    "|             |        38.73      |               |         |\n",
    "|             |        39.42      |               |         |\n",
    "|             |        40.17      |               |         |\n",
    "|**40.55**    |      **40.55**    |               |**40.55**|\n",
    "|**41.19**    |      **41.19**    |               |**41.19**|\n",
    "|**43.11**    |      **43.11**    |               |**43.11**|\n",
    "|**44.30**    |      **44.30**    |               |**44.30**|\n",
    "|**45.35**    |      **45.35**    |               |**45.35**|\n",
    "|**48.17**    |                   |   **48.17**   |**48.17**|\n",
    "|**48.27**    |                   |   **48.27**   |**48.27**|\n",
    "|**48.33**    |                   |   **48.33**   |**48.33**|\n",
    "|**50.81**    |                   |   **50.81**   |**50.81**|\n",
    "\n",
    "\n",
    "_**Note**_: the values in bold were identified as Outliers using all three methods."
   ]
  },
  {
   "cell_type": "markdown",
   "metadata": {},
   "source": [
    "<a id=\"regression\"></a>"
   ]
  },
  {
   "cell_type": "markdown",
   "metadata": {},
   "source": [
    "### **<font color='purple'>Regression</font>**"
   ]
  },
  {
   "cell_type": "markdown",
   "metadata": {},
   "source": [
    "<a id=\"correlation\"></a>"
   ]
  },
  {
   "cell_type": "markdown",
   "metadata": {},
   "source": [
    "#### **Correlation**\n",
    "\n",
    "_**Correlation**_ in statistical terms is used to denote association between two quantitative variables. It's assumed that the association is linear, that one variable increases or decreases a fixed amount for a unit increase or decrease in the other. The other technique that is often used in these circumstances is regression, which involves estimating the best straight line to summarise the association.\n",
    "\n",
    "The degree of association is measured by a _**correlation coefficient**_, denoted by r. It is sometimes called Pearson's correlation coefficient after its originator and is a measure of linear association. If a curved line is needed to express the relationship, other and more complicated measures of the correlation must be used.\n",
    "\n",
    "The correlation coefficient is measured on a scale that varies from + 1 through 0 to - 1. Complete correlation between two variables is expressed by either + 1 or -1. When one variable increases as the other increases the correlation is positive; when one decreases as the other increases it is negative. Complete absence of correlation is represented by 0. \n",
    "\n",
    "Let's test if there is any correlation between our total bill and tip values:"
   ]
  },
  {
   "cell_type": "code",
   "execution_count": 22,
   "metadata": {},
   "outputs": [
    {
     "data": {
      "text/plain": [
       "Text(0, 0.5, 'Tips')"
      ]
     },
     "execution_count": 22,
     "metadata": {},
     "output_type": "execute_result"
    },
    {
     "data": {
      "image/png": "[encoded data removed]",
      "text/plain": [
       "<Figure size 432x288 with 1 Axes>"
      ]
     },
     "metadata": {},
     "output_type": "display_data"
    }
   ],
   "source": [
    "plt.scatter(df['total_bill'], df['tip'], color=\"rebeccapurple\")\n",
    "plt.xlabel(\"Total bill\")\n",
    "plt.ylabel(\"Tips\")"
   ]
  },
  {
   "cell_type": "markdown",
   "metadata": {},
   "source": [
    "As we can see from the scatter plot above, there is a positive relationship between two variables: total bill and tips."
   ]
  },
  {
   "cell_type": "markdown",
   "metadata": {},
   "source": [
    "Correlation describes the strength of an association between two variables, and is completely symmetrical, the correlation between A and B is the same as the correlation between B and A. However, if the two variables are related it means that when one changes by a certain amount the other changes on an average by a certain amount. The relationship can be represented by a simple equation called the regression equation. In this context \"regression\" (the term is a historical anomaly) simply means that the average value of y is a \"function\" of x, that is, it changes with x. \n",
    "\n",
    "The regression equation representing how much y changes with any given change of x can be used to construct a regression line on a scatter diagram, and in the simplest case this is assumed to be a straight line. The direction in which the line slopes depends on whether the correlation is positive or negative. When the two sets of observations increase or decrease together (positive) the line slopes upwards from left to right; when one set decreases as the other increases the line slopes downwards from left to right. "
   ]
  },
  {
   "cell_type": "markdown",
   "metadata": {},
   "source": [
    "<a id=\"linear\"></a>"
   ]
  },
  {
   "cell_type": "markdown",
   "metadata": {},
   "source": [
    "#### **Linear Regression**\n",
    "\n",
    "Typically, you need regression to answer whether and how some phenomenon influences the other or how several variables are related. \n",
    "\n",
    "_**Linear regression**_ is probably one of the most important and widely used regression techniques. It’s among the simplest regression methods. One of its main advantages is the ease of interpreting results.\n",
    "\n",
    "Linear regression is an approach to modelling the linear relationship between a target variable, also referred to as the dependent variable, and one or more explanatory variables, known as independent variables. The case of one explanatory variable is called simple linear regression. \n",
    "\n",
    "For more than one explanatory variable, the process is called multiple linear regression. Most applications of linear regression fall into one of the following two broad categories:\n",
    "- prediction/forecasting\n",
    "- explanation of variation in target\n",
    "\n",
    "Linear regression can be used to fit a predictive model to an observed set of data values of the target and explanatory variables. After developing the model, when additional values of the explanatory variables are collected without an accompanying target value, then the model can be used to make a prediction of the target values.\n",
    "\n",
    "Secondly, linear regression analysis can be applied to quantify the strength of the relationship between the targets and the explanatory variables. It can be used to determine if some \n",
    "explanatory variables have no linear relationship with the target variable. Linear regression models are often fitted using the least squares approach, although they may also be fitted in other ways."
   ]
  },
  {
   "cell_type": "markdown",
   "metadata": {},
   "source": [
    "##### **Assumptions of Linear Regression**\n",
    "\n",
    "Building a linear regression model is only half of the work. In order to actually be usable in practice, the model should conform to the assumptions of linear regression.\n",
    "\n",
    "- Assumption 1: The regression model is linear in parameters\n",
    "- Assumption 2: No or low multicollinearity\n",
    "- Assumption 3: Homoscedasticity of residuals or equal variance\n",
    "- Assumption 4: No autocorrelation of residuals\n",
    "\n",
    "**_Assumption 1_** can be tested with scatter plot, As we can see from the plot below. there is a linear positive correlation between two variables: total bill and tips."
   ]
  },
  {
   "cell_type": "code",
   "execution_count": 23,
   "metadata": {},
   "outputs": [
    {
     "data": {
      "text/plain": [
       "<seaborn.axisgrid.FacetGrid at 0x26480f114a8>"
      ]
     },
     "execution_count": 23,
     "metadata": {},
     "output_type": "execute_result"
    },
    {
     "data": {
      "image/png": "[encoded data removed]",
      "text/plain": [
       "<Figure size 360x360 with 1 Axes>"
      ]
     },
     "metadata": {},
     "output_type": "display_data"
    }
   ],
   "source": [
    "sns.lmplot(x=\"total_bill\", y=\"tip\", data=df)"
   ]
  },
  {
   "cell_type": "markdown",
   "metadata": {},
   "source": [
    "This linear line across our plot is the best available fit for the trend of the tip usually customers give with respect to the total bill that gets generated. And the data points that we see at extreme top right which are far away from this line are known as outliers in the dataset. We may think of outliers as exceptions.\n",
    "\n",
    "_**The line of best fit**_ is the line that describes the relationship between the two variables, where the sum of the squares of the residual errors between the individual data values and the line is at its minimum. Therefore, it is the best possible straight line that fits the data. \n",
    "\n",
    "As you can notice, there is a shadow converging at the center where there is a chunk of our data. This convergent point is actually _**the statistical mean**_ or in simpler words, the generalized prediction of tip value in this restaurant on a daily basis."
   ]
  },
  {
   "cell_type": "markdown",
   "metadata": {},
   "source": [
    "**_Assumption 2_** - Multicollinearity occurs when the explanatory variables are highly correlated with each other.\n",
    "Multicollinearity may be analysed in a variety of ways. For example:\n",
    "- _**Correlation matrix**_ – compute the matrix of Pearson’s correlation coefficients for each explanatory variable. Correlation values range between -1 and 1.\n",
    "- _**Tolerance**_ – the tolerance (T) measures the influence of one explanatory variable on all the other independent variables. It is calculated by regressing the explanatory variable of interest onto the remaining explanatory variables included in the regression analysis. Then the tolerance is used to calculate the “variance inflation factor”. \n",
    "\n",
    "If multicollinearity is found in the data the simplest way to address the problem is to remove one of the correlated variables.\n",
    "\n",
    "We are going to check the evidence of Multicollinearity using a correlation heatmap:"
   ]
  },
  {
   "cell_type": "code",
   "execution_count": 24,
   "metadata": {},
   "outputs": [
    {
     "data": {
      "text/plain": [
       "<matplotlib.axes._subplots.AxesSubplot at 0x26480fc7cc0>"
      ]
     },
     "execution_count": 24,
     "metadata": {},
     "output_type": "execute_result"
    },
    {
     "data": {
      "image/png": "[encoded data removed]",
      "text/plain": [
       "<Figure size 432x288 with 2 Axes>"
      ]
     },
     "metadata": {},
     "output_type": "display_data"
    }
   ],
   "source": [
    "corr = df[[\"total_bill\",\"tip\"]].corr(method='pearson')\n",
    "sns.heatmap(corr, cmap=\"BuPu\", annot=True)"
   ]
  },
  {
   "cell_type": "markdown",
   "metadata": {},
   "source": [
    "For the Pearson correlation, an absolute value of 1 indicates a perfect linear relationship. A correlation close to 0 indicates no linear relationship between the variables. If both variables tend to increase or decrease together, the coefficient is positive, and the line that represents the correlation slopes upward. In our case the correlation coefficient value is 0.68, therefore we can exclude the multicollinearity."
   ]
  },
  {
   "cell_type": "markdown",
   "metadata": {},
   "source": [
    "**_Assumption 3_** - Linear regression analysis requires that there is little or no “autocorrelation” in the residuals. This means that the error terms must be uncorrelated so that one observation of the error term should not predict the next observation."
   ]
  },
  {
   "cell_type": "code",
   "execution_count": 26,
   "metadata": {},
   "outputs": [
    {
     "data": {
      "text/plain": [
       "(array([-10,  -9,  -8,  -7,  -6,  -5,  -4,  -3,  -2,  -1,   0,   1,   2,\n",
       "          3,   4,   5,   6,   7,   8,   9,  10]),\n",
       " array([0.79842795, 0.79613309, 0.78979279, 0.79630833, 0.78950126,\n",
       "        0.81819032, 0.82324487, 0.82349452, 0.83535438, 0.83999812,\n",
       "        1.        , 0.83999812, 0.83535438, 0.82349452, 0.82324487,\n",
       "        0.81819032, 0.78950126, 0.79630833, 0.78979279, 0.79613309,\n",
       "        0.79842795]),\n",
       " <matplotlib.collections.LineCollection at 0x26482887198>,\n",
       " <matplotlib.lines.Line2D at 0x26481053630>)"
      ]
     },
     "execution_count": 26,
     "metadata": {},
     "output_type": "execute_result"
    },
    {
     "data": {
      "image/png": "[encoded data removed]",
      "text/plain": [
       "<Figure size 432x288 with 1 Axes>"
      ]
     },
     "metadata": {},
     "output_type": "display_data"
    }
   ],
   "source": [
    "# Checking if there is an autocorrelation in the total bill array\n",
    "plt.acorr(df[\"total_bill\"], color=\"rebeccapurple\")"
   ]
  },
  {
   "cell_type": "code",
   "execution_count": 27,
   "metadata": {},
   "outputs": [
    {
     "data": {
      "text/plain": [
       "(array([-10,  -9,  -8,  -7,  -6,  -5,  -4,  -3,  -2,  -1,   0,   1,   2,\n",
       "          3,   4,   5,   6,   7,   8,   9,  10]),\n",
       " array([0.79491763, 0.79900806, 0.81459117, 0.80021636, 0.79817201,\n",
       "        0.81719113, 0.79807557, 0.82232271, 0.8416129 , 0.82917758,\n",
       "        1.        , 0.82917758, 0.8416129 , 0.82232271, 0.79807557,\n",
       "        0.81719113, 0.79817201, 0.80021636, 0.81459117, 0.79900806,\n",
       "        0.79491763]),\n",
       " <matplotlib.collections.LineCollection at 0x26482768668>,\n",
       " <matplotlib.lines.Line2D at 0x26482719898>)"
      ]
     },
     "execution_count": 27,
     "metadata": {},
     "output_type": "execute_result"
    },
    {
     "data": {
      "image/png": "[encoded data removed]",
      "text/plain": [
       "<Figure size 432x288 with 1 Axes>"
      ]
     },
     "metadata": {},
     "output_type": "display_data"
    }
   ],
   "source": [
    "# Checking if there is an autocorrelation in the tip array\n",
    "plt.acorr(df[\"tip\"], color=\"rebeccapurple\")"
   ]
  },
  {
   "cell_type": "markdown",
   "metadata": {},
   "source": [
    "As we can see from the two plots above, there is no autocorrelation in the residuals."
   ]
  },
  {
   "cell_type": "markdown",
   "metadata": {},
   "source": [
    "**_Assumption 4_** \n",
    "\n",
    "The variance of the errors should be consistent for all observations. This means that the variance does not change for each observation or for a range of observations. \n",
    "The scatter plot is good way to check whether the data is _**homoscedastic**_ (which simply means that the residuals are equal across the regression line).\n",
    "\n",
    "The assumption of _**homoscedasticity**_ is a vital assumption for linear regression. If this assumption is violated, then the standard errors will be biased. The standard errors are used to conduct significance tests and calculate the confidence intervals.\n",
    "\n",
    "This can be tested using a few different statistical tests, these include the\n",
    "Brown-Forsythe test, Levene’s test, Bruesch-Pagan test, White test or Cook-Weisberg test. In this example, I will use one of the most common test to check homoscedasticity - Bruesch-Pagan test:\n",
    "demonstrate how to conduct the Bruesch-Pagan test followed by how to conduct the Levene’s test. The test for homoscedasticity of variance needs to be conducted for each level of the categorical variables."
   ]
  },
  {
   "cell_type": "code",
   "execution_count": 28,
   "metadata": {},
   "outputs": [
    {
     "data": {
      "text/plain": [
       "[('LM statistic', 86.73330953041769),\n",
       " ('LM-Test p-value', 1.2418745637053014e-20),\n",
       " ('F-statistics', 66.7320614546179),\n",
       " ('F-test p-value', 8.29616666191201e-24)]"
      ]
     },
     "execution_count": 28,
     "metadata": {},
     "output_type": "execute_result"
    }
   ],
   "source": [
    "name = ['LM statistic', 'LM-Test p-value', 'F-statistics', 'F-test p-value']\n",
    "test = smd.het_breuschpagan(residual, df[['total_bill', 'tip']])\n",
    "lzip(name, test)"
   ]
  },
  {
   "cell_type": "markdown",
   "metadata": {},
   "source": [
    "Heteroskedasticity is indicated if p value < 0.05, so according to this test, this model is heteroscedastic."
   ]
  },
  {
   "cell_type": "markdown",
   "metadata": {},
   "source": [
    "<a id=\"analysis\"></a>"
   ]
  },
  {
   "cell_type": "markdown",
   "metadata": {},
   "source": [
    "### **<font color='purple'>Analysis</font>**"
   ]
  },
  {
   "cell_type": "markdown",
   "metadata": {},
   "source": [
    "As we can see from the performed analysis, there is a positive correlation between the amount of the bill and the amount of the tips. But is the amount of total bill only one value that influences the tips? Let's check if there are other influencers and if they are, how they impact the tips amount.\n",
    "\n",
    "First let's if business of the restaurant was the same over 4 days. For this puprose we will count how many tables were served every day."
   ]
  },
  {
   "cell_type": "code",
   "execution_count": 29,
   "metadata": {},
   "outputs": [
    {
     "data": {
      "text/html": [
       "<div>\n",
       "<style scoped>\n",
       "    .dataframe tbody tr th:only-of-type {\n",
       "        vertical-align: middle;\n",
       "    }\n",
       "\n",
       "    .dataframe tbody tr th {\n",
       "        vertical-align: top;\n",
       "    }\n",
       "\n",
       "    .dataframe thead th {\n",
       "        text-align: right;\n",
       "    }\n",
       "</style>\n",
       "<table border=\"1\" class=\"dataframe\">\n",
       "  <thead>\n",
       "    <tr style=\"text-align: right;\">\n",
       "      <th></th>\n",
       "      <th>total_bill</th>\n",
       "      <th>tip</th>\n",
       "      <th>sex</th>\n",
       "      <th>smoker</th>\n",
       "      <th>time</th>\n",
       "      <th>size</th>\n",
       "    </tr>\n",
       "    <tr>\n",
       "      <th>day</th>\n",
       "      <th></th>\n",
       "      <th></th>\n",
       "      <th></th>\n",
       "      <th></th>\n",
       "      <th></th>\n",
       "      <th></th>\n",
       "    </tr>\n",
       "  </thead>\n",
       "  <tbody>\n",
       "    <tr>\n",
       "      <th>Fri</th>\n",
       "      <td>19</td>\n",
       "      <td>19</td>\n",
       "      <td>19</td>\n",
       "      <td>19</td>\n",
       "      <td>19</td>\n",
       "      <td>19</td>\n",
       "    </tr>\n",
       "    <tr>\n",
       "      <th>Sat</th>\n",
       "      <td>87</td>\n",
       "      <td>87</td>\n",
       "      <td>87</td>\n",
       "      <td>87</td>\n",
       "      <td>87</td>\n",
       "      <td>87</td>\n",
       "    </tr>\n",
       "    <tr>\n",
       "      <th>Sun</th>\n",
       "      <td>76</td>\n",
       "      <td>76</td>\n",
       "      <td>76</td>\n",
       "      <td>76</td>\n",
       "      <td>76</td>\n",
       "      <td>76</td>\n",
       "    </tr>\n",
       "    <tr>\n",
       "      <th>Thur</th>\n",
       "      <td>62</td>\n",
       "      <td>62</td>\n",
       "      <td>62</td>\n",
       "      <td>62</td>\n",
       "      <td>62</td>\n",
       "      <td>62</td>\n",
       "    </tr>\n",
       "  </tbody>\n",
       "</table>\n",
       "</div>"
      ],
      "text/plain": [
       "      total_bill  tip  sex  smoker  time  size\n",
       "day                                           \n",
       "Fri           19   19   19      19    19    19\n",
       "Sat           87   87   87      87    87    87\n",
       "Sun           76   76   76      76    76    76\n",
       "Thur          62   62   62      62    62    62"
      ]
     },
     "execution_count": 29,
     "metadata": {},
     "output_type": "execute_result"
    }
   ],
   "source": [
    "df.groupby('day').count()"
   ]
  },
  {
   "cell_type": "markdown",
   "metadata": {},
   "source": [
    "Let's find out now when the waiter received the maximum tips (total sum and percent-wise):"
   ]
  },
  {
   "cell_type": "code",
   "execution_count": 30,
   "metadata": {},
   "outputs": [
    {
     "data": {
      "text/html": [
       "<div>\n",
       "<style scoped>\n",
       "    .dataframe tbody tr th:only-of-type {\n",
       "        vertical-align: middle;\n",
       "    }\n",
       "\n",
       "    .dataframe tbody tr th {\n",
       "        vertical-align: top;\n",
       "    }\n",
       "\n",
       "    .dataframe thead th {\n",
       "        text-align: right;\n",
       "    }\n",
       "</style>\n",
       "<table border=\"1\" class=\"dataframe\">\n",
       "  <thead>\n",
       "    <tr style=\"text-align: right;\">\n",
       "      <th></th>\n",
       "      <th>total_bill</th>\n",
       "      <th>tip</th>\n",
       "      <th>percent</th>\n",
       "    </tr>\n",
       "    <tr>\n",
       "      <th>day</th>\n",
       "      <th></th>\n",
       "      <th></th>\n",
       "      <th></th>\n",
       "    </tr>\n",
       "  </thead>\n",
       "  <tbody>\n",
       "    <tr>\n",
       "      <th>Fri</th>\n",
       "      <td>325.88</td>\n",
       "      <td>51.96</td>\n",
       "      <td>15.944519</td>\n",
       "    </tr>\n",
       "    <tr>\n",
       "      <th>Sat</th>\n",
       "      <td>1778.40</td>\n",
       "      <td>260.40</td>\n",
       "      <td>14.642375</td>\n",
       "    </tr>\n",
       "    <tr>\n",
       "      <th>Sun</th>\n",
       "      <td>1627.16</td>\n",
       "      <td>247.39</td>\n",
       "      <td>15.203791</td>\n",
       "    </tr>\n",
       "    <tr>\n",
       "      <th>Thur</th>\n",
       "      <td>1096.33</td>\n",
       "      <td>171.83</td>\n",
       "      <td>15.673201</td>\n",
       "    </tr>\n",
       "  </tbody>\n",
       "</table>\n",
       "</div>"
      ],
      "text/plain": [
       "      total_bill     tip    percent\n",
       "day                                \n",
       "Fri       325.88   51.96  15.944519\n",
       "Sat      1778.40  260.40  14.642375\n",
       "Sun      1627.16  247.39  15.203791\n",
       "Thur     1096.33  171.83  15.673201"
      ]
     },
     "execution_count": 30,
     "metadata": {},
     "output_type": "execute_result"
    }
   ],
   "source": [
    "df2=df.groupby('day').sum()\n",
    "\n",
    "# as the Size column is irrelevant for this calculation, we're removing it:\n",
    "df2.drop('size',inplace=True,axis=1)\n",
    "\n",
    "#creating a calculation field to check percents\n",
    "df2['percent'] = df2['tip']/df2['total_bill']*100\n",
    "\n",
    "df2"
   ]
  },
  {
   "cell_type": "markdown",
   "metadata": {},
   "source": [
    "From this table we can see that the tips are around 15% of the Total bill each day. However, the highest percentage was on Friday. If we check the table above, we could see that Friday is least busy day - based on this we could assume that if the waitress has less tables to serve, she has more time to spend with every customer and therefore the serving quality is higher than other days."
   ]
  },
  {
   "cell_type": "markdown",
   "metadata": {},
   "source": [
    "Now let's check if there is a difference in tips given by smoker/non-smoker and female/male:"
   ]
  },
  {
   "cell_type": "code",
   "execution_count": 31,
   "metadata": {},
   "outputs": [
    {
     "data": {
      "text/plain": [
       "<seaborn.axisgrid.FacetGrid at 0x26480d2ddd8>"
      ]
     },
     "execution_count": 31,
     "metadata": {},
     "output_type": "execute_result"
    },
    {
     "data": {
      "image/png": "[encoded data removed]",
      "text/plain": [
       "<Figure size 432x432 with 4 Axes>"
      ]
     },
     "metadata": {},
     "output_type": "display_data"
    }
   ],
   "source": [
    "df['tips_percent'] = df['tip']/df['total_bill']*100\n",
    "grid = sns.FacetGrid(df, row = \"smoker\", col = \"sex\", margin_titles=True)\n",
    "grid.map(plt.hist, \"tips_percent\", bins=np.linspace(0, 40, 15), color=\"rebeccapurple\")"
   ]
  },
  {
   "cell_type": "markdown",
   "metadata": {},
   "source": [
    "As we can see from the histogram above, the non-smokers tend to leave more tips than smokers. However \n",
    "It's interesting that the male non-smokers seems to leave higher percentage (above 30% of total bill) comparing to female non-smokers."
   ]
  },
  {
   "cell_type": "markdown",
   "metadata": {},
   "source": [
    "**_Prediction_**"
   ]
  },
  {
   "cell_type": "markdown",
   "metadata": {},
   "source": [
    "From the data analysis performed in Chapter 2, we know that our dataset contains some qualitative and quantitative data. Before we start building our prediction model, we will convert all text values into numbers:\n",
    "* Male = 0\n",
    "* Female = 1\n",
    "* Non-smoker = 0\n",
    "* Smoker = 1\n",
    "* Lunch = 0\n",
    "* Dinner = 1"
   ]
  },
  {
   "cell_type": "code",
   "execution_count": 38,
   "metadata": {},
   "outputs": [],
   "source": [
    "df3 = df[['tip','total_bill', 'sex', 'smoker', 'time', 'size', 'day']]\n",
    "df3.replace({ 'sex': {'Male':0 , 'Female':1} , 'smoker' : {'No': 0 , 'Yes': 1}, 'time': {'Lunch':0 , 'Dinner':1}} ,inplace=True)"
   ]
  },
  {
   "cell_type": "code",
   "execution_count": 39,
   "metadata": {},
   "outputs": [
    {
     "data": {
      "text/html": [
       "<div>\n",
       "<style scoped>\n",
       "    .dataframe tbody tr th:only-of-type {\n",
       "        vertical-align: middle;\n",
       "    }\n",
       "\n",
       "    .dataframe tbody tr th {\n",
       "        vertical-align: top;\n",
       "    }\n",
       "\n",
       "    .dataframe thead th {\n",
       "        text-align: right;\n",
       "    }\n",
       "</style>\n",
       "<table border=\"1\" class=\"dataframe\">\n",
       "  <thead>\n",
       "    <tr style=\"text-align: right;\">\n",
       "      <th></th>\n",
       "      <th>tip</th>\n",
       "      <th>total_bill</th>\n",
       "      <th>sex</th>\n",
       "      <th>smoker</th>\n",
       "      <th>time</th>\n",
       "      <th>size</th>\n",
       "      <th>day</th>\n",
       "    </tr>\n",
       "  </thead>\n",
       "  <tbody>\n",
       "    <tr>\n",
       "      <th>0</th>\n",
       "      <td>1.01</td>\n",
       "      <td>16.99</td>\n",
       "      <td>1</td>\n",
       "      <td>0</td>\n",
       "      <td>1</td>\n",
       "      <td>2</td>\n",
       "      <td>Sun</td>\n",
       "    </tr>\n",
       "    <tr>\n",
       "      <th>1</th>\n",
       "      <td>1.66</td>\n",
       "      <td>10.34</td>\n",
       "      <td>0</td>\n",
       "      <td>0</td>\n",
       "      <td>1</td>\n",
       "      <td>3</td>\n",
       "      <td>Sun</td>\n",
       "    </tr>\n",
       "    <tr>\n",
       "      <th>2</th>\n",
       "      <td>3.50</td>\n",
       "      <td>21.01</td>\n",
       "      <td>0</td>\n",
       "      <td>0</td>\n",
       "      <td>1</td>\n",
       "      <td>3</td>\n",
       "      <td>Sun</td>\n",
       "    </tr>\n",
       "    <tr>\n",
       "      <th>3</th>\n",
       "      <td>3.31</td>\n",
       "      <td>23.68</td>\n",
       "      <td>0</td>\n",
       "      <td>0</td>\n",
       "      <td>1</td>\n",
       "      <td>2</td>\n",
       "      <td>Sun</td>\n",
       "    </tr>\n",
       "    <tr>\n",
       "      <th>4</th>\n",
       "      <td>3.61</td>\n",
       "      <td>24.59</td>\n",
       "      <td>1</td>\n",
       "      <td>0</td>\n",
       "      <td>1</td>\n",
       "      <td>4</td>\n",
       "      <td>Sun</td>\n",
       "    </tr>\n",
       "  </tbody>\n",
       "</table>\n",
       "</div>"
      ],
      "text/plain": [
       "    tip  total_bill  sex  smoker  time  size  day\n",
       "0  1.01       16.99    1       0     1     2  Sun\n",
       "1  1.66       10.34    0       0     1     3  Sun\n",
       "2  3.50       21.01    0       0     1     3  Sun\n",
       "3  3.31       23.68    0       0     1     2  Sun\n",
       "4  3.61       24.59    1       0     1     4  Sun"
      ]
     },
     "execution_count": 39,
     "metadata": {},
     "output_type": "execute_result"
    }
   ],
   "source": [
    "df3.head()"
   ]
  },
  {
   "cell_type": "markdown",
   "metadata": {},
   "source": [
    "Let's build the model. We create a list of actual features as inputs and predicted as outputs:"
   ]
  },
  {
   "cell_type": "code",
   "execution_count": 40,
   "metadata": {},
   "outputs": [],
   "source": [
    "inputs = df3[['total_bill', 'sex', 'smoker', 'time', 'size']]\n",
    "outputs = df3['tip']"
   ]
  },
  {
   "cell_type": "markdown",
   "metadata": {},
   "source": [
    "Now lets split the data into test and train so we can test our model before we use it – we decided to split 75% – 25%:"
   ]
  },
  {
   "cell_type": "code",
   "execution_count": 41,
   "metadata": {},
   "outputs": [],
   "source": [
    "from sklearn.model_selection import train_test_split\n",
    "from sklearn.linear_model import LinearRegression\n",
    "inputs_train, inputs_test, outputs_train, outputs_test = mod.train_test_split(inputs,outputs,test_size=0.25)"
   ]
  },
  {
   "cell_type": "markdown",
   "metadata": {},
   "source": [
    "Now let's train the model with inputs_train and outputs_train:"
   ]
  },
  {
   "cell_type": "code",
   "execution_count": 42,
   "metadata": {},
   "outputs": [
    {
     "data": {
      "text/plain": [
       "LinearRegression(copy_X=True, fit_intercept=True, n_jobs=None, normalize=False)"
      ]
     },
     "execution_count": 42,
     "metadata": {},
     "output_type": "execute_result"
    }
   ],
   "source": [
    "model = LinearRegression()\n",
    "model.fit(inputs_train, outputs_train)"
   ]
  },
  {
   "cell_type": "markdown",
   "metadata": {},
   "source": [
    "And predict the inputs_test values:"
   ]
  },
  {
   "cell_type": "code",
   "execution_count": 43,
   "metadata": {},
   "outputs": [],
   "source": [
    "predictions = model.predict(inputs_test)"
   ]
  },
  {
   "cell_type": "markdown",
   "metadata": {},
   "source": [
    "Now we can compare predictions with output_test using a graph:"
   ]
  },
  {
   "cell_type": "code",
   "execution_count": 44,
   "metadata": {},
   "outputs": [
    {
     "data": {
      "text/plain": [
       "<matplotlib.axes._subplots.AxesSubplot at 0x264827b7588>"
      ]
     },
     "execution_count": 44,
     "metadata": {},
     "output_type": "execute_result"
    },
    {
     "data": {
      "image/png": "[encoded data removed]",
      "text/plain": [
       "<Figure size 432x288 with 1 Axes>"
      ]
     },
     "metadata": {},
     "output_type": "display_data"
    }
   ],
   "source": [
    "sns.distplot(outputs_test-predictions)"
   ]
  },
  {
   "cell_type": "markdown",
   "metadata": {},
   "source": [
    "We can see from the graph that most of the times the predictions were correct (difference = 0). We can continue working on the model, adding data and play with the parameters."
   ]
  },
  {
   "cell_type": "markdown",
   "metadata": {},
   "source": [
    "Let's predict a tip value based on the existing paramenters, e.g. 5th line of our dataset:"
   ]
  },
  {
   "cell_type": "code",
   "execution_count": 45,
   "metadata": {},
   "outputs": [
    {
     "data": {
      "text/plain": [
       "tip            3.61\n",
       "total_bill    24.59\n",
       "sex               1\n",
       "smoker            0\n",
       "time              1\n",
       "size              4\n",
       "day             Sun\n",
       "Name: 4, dtype: object"
      ]
     },
     "execution_count": 45,
     "metadata": {},
     "output_type": "execute_result"
    }
   ],
   "source": [
    "df3.loc[4]"
   ]
  },
  {
   "cell_type": "code",
   "execution_count": 46,
   "metadata": {},
   "outputs": [
    {
     "data": {
      "text/plain": [
       "array([3.7361826])"
      ]
     },
     "execution_count": 46,
     "metadata": {},
     "output_type": "execute_result"
    }
   ],
   "source": [
    "myvals = np.array([24.59, 1, 0, 1, 4]).reshape(1,-1)\n",
    "model.predict(myvals)"
   ]
  },
  {
   "cell_type": "markdown",
   "metadata": {},
   "source": [
    "Based on the results - predicted tip value is 3.73. If we check the actual value - it's 3.61, wich is very close to the predicted tip."
   ]
  },
  {
   "cell_type": "markdown",
   "metadata": {},
   "source": [
    "<a id=\"ref\"></a>"
   ]
  },
  {
   "cell_type": "markdown",
   "metadata": {},
   "source": [
    "### __6. References__\n",
    "\n",
    " [14.&emsp; open SAP course: Introduction to Statistics for Data Science](https://open.sap.com/courses/ds0/items/3G1VitcwwJTo4w6gfQSEzt/quiz_submission/3YIkL40PUyicYRkurTOEVc?highest_score=true) <br>\n",
    "\n",
    " [18.&emsp; Markdown in Jupyter Notebook](https://www.datacamp.com/community/tutorials/markdown-in-jupyter-notebook) <br>\n",
    " [19.&emsp; Markdown for Jupyter notebooks cheatsheet](https://medium.com/ibm-data-science-experience/markdown-for-jupyter-notebooks-cheatsheet-386c05aeebed) <br>\n",
    " [20.&emsp; Markdown Cells](https://jupyter-notebook.readthedocs.io/en/stable/examples/Notebook/Working%20With%20Markdown%20Cells.html) <br>\n",
    " [21.&emsp; How to write LaTeX in IPython Notebook?](https://stackoverflow.com/questions/13208286/how-to-write-latex-in-ipython-notebook) <br>\n",
    " \n",
    " \n",
    " https://www3.nd.edu/~rwilliam/stats2/l25.pdf\n",
    " https://medium.com/@remycanario17/tests-for-heteroskedasticity-in-python-208a0fdb04ab\n"
   ]
  },
  {
   "cell_type": "code",
   "execution_count": null,
   "metadata": {},
   "outputs": [],
   "source": []
  },
  {
   "cell_type": "markdown",
   "metadata": {},
   "source": []
  },
  {
   "cell_type": "markdown",
   "metadata": {},
   "source": []
  },
  {
   "cell_type": "markdown",
   "metadata": {},
   "source": []
  },
  {
   "cell_type": "markdown",
   "metadata": {},
   "source": []
  },
  {
   "cell_type": "code",
   "execution_count": 18,
   "metadata": {},
   "outputs": [
    {
     "data": {
      "text/html": [
       "<table class=\"simpletable\">\n",
       "<caption>OLS Regression Results</caption>\n",
       "<tr>\n",
       "  <th>Dep. Variable:</th>           <td>tip</td>       <th>  R-squared:         </th> <td>   0.468</td>\n",
       "</tr>\n",
       "<tr>\n",
       "  <th>Model:</th>                   <td>OLS</td>       <th>  Adj. R-squared:    </th> <td>   0.463</td>\n",
       "</tr>\n",
       "<tr>\n",
       "  <th>Method:</th>             <td>Least Squares</td>  <th>  F-statistic:       </th> <td>   105.9</td>\n",
       "</tr>\n",
       "<tr>\n",
       "  <th>Date:</th>             <td>Sun, 10 Nov 2019</td> <th>  Prob (F-statistic):</th> <td>9.67e-34</td>\n",
       "</tr>\n",
       "<tr>\n",
       "  <th>Time:</th>                 <td>16:17:51</td>     <th>  Log-Likelihood:    </th> <td> -347.99</td>\n",
       "</tr>\n",
       "<tr>\n",
       "  <th>No. Observations:</th>      <td>   244</td>      <th>  AIC:               </th> <td>   702.0</td>\n",
       "</tr>\n",
       "<tr>\n",
       "  <th>Df Residuals:</th>          <td>   241</td>      <th>  BIC:               </th> <td>   712.5</td>\n",
       "</tr>\n",
       "<tr>\n",
       "  <th>Df Model:</th>              <td>     2</td>      <th>                     </th>     <td> </td>   \n",
       "</tr>\n",
       "<tr>\n",
       "  <th>Covariance Type:</th>      <td>nonrobust</td>    <th>                     </th>     <td> </td>   \n",
       "</tr>\n",
       "</table>\n",
       "<table class=\"simpletable\">\n",
       "<tr>\n",
       "       <td></td>         <th>coef</th>     <th>std err</th>      <th>t</th>      <th>P>|t|</th>  <th>[0.025</th>    <th>0.975]</th>  \n",
       "</tr>\n",
       "<tr>\n",
       "  <th>Intercept</th>  <td>    0.6689</td> <td>    0.194</td> <td>    3.455</td> <td> 0.001</td> <td>    0.288</td> <td>    1.050</td>\n",
       "</tr>\n",
       "<tr>\n",
       "  <th>total_bill</th> <td>    0.0927</td> <td>    0.009</td> <td>   10.172</td> <td> 0.000</td> <td>    0.075</td> <td>    0.111</td>\n",
       "</tr>\n",
       "<tr>\n",
       "  <th>size</th>       <td>    0.1926</td> <td>    0.085</td> <td>    2.258</td> <td> 0.025</td> <td>    0.025</td> <td>    0.361</td>\n",
       "</tr>\n",
       "</table>\n",
       "<table class=\"simpletable\">\n",
       "<tr>\n",
       "  <th>Omnibus:</th>       <td>24.753</td> <th>  Durbin-Watson:     </th> <td>   2.100</td>\n",
       "</tr>\n",
       "<tr>\n",
       "  <th>Prob(Omnibus):</th> <td> 0.000</td> <th>  Jarque-Bera (JB):  </th> <td>  46.169</td>\n",
       "</tr>\n",
       "<tr>\n",
       "  <th>Skew:</th>          <td> 0.545</td> <th>  Prob(JB):          </th> <td>9.43e-11</td>\n",
       "</tr>\n",
       "<tr>\n",
       "  <th>Kurtosis:</th>      <td> 4.831</td> <th>  Cond. No.          </th> <td>    67.6</td>\n",
       "</tr>\n",
       "</table><br/><br/>Warnings:<br/>[1] Standard Errors assume that the covariance matrix of the errors is correctly specified."
      ],
      "text/plain": [
       "<class 'statsmodels.iolib.summary.Summary'>\n",
       "\"\"\"\n",
       "                            OLS Regression Results                            \n",
       "==============================================================================\n",
       "Dep. Variable:                    tip   R-squared:                       0.468\n",
       "Model:                            OLS   Adj. R-squared:                  0.463\n",
       "Method:                 Least Squares   F-statistic:                     105.9\n",
       "Date:                Sun, 10 Nov 2019   Prob (F-statistic):           9.67e-34\n",
       "Time:                        16:17:51   Log-Likelihood:                -347.99\n",
       "No. Observations:                 244   AIC:                             702.0\n",
       "Df Residuals:                     241   BIC:                             712.5\n",
       "Df Model:                           2                                         \n",
       "Covariance Type:            nonrobust                                         \n",
       "==============================================================================\n",
       "                 coef    std err          t      P>|t|      [0.025      0.975]\n",
       "------------------------------------------------------------------------------\n",
       "Intercept      0.6689      0.194      3.455      0.001       0.288       1.050\n",
       "total_bill     0.0927      0.009     10.172      0.000       0.075       0.111\n",
       "size           0.1926      0.085      2.258      0.025       0.025       0.361\n",
       "==============================================================================\n",
       "Omnibus:                       24.753   Durbin-Watson:                   2.100\n",
       "Prob(Omnibus):                  0.000   Jarque-Bera (JB):               46.169\n",
       "Skew:                           0.545   Prob(JB):                     9.43e-11\n",
       "Kurtosis:                       4.831   Cond. No.                         67.6\n",
       "==============================================================================\n",
       "\n",
       "Warnings:\n",
       "[1] Standard Errors assume that the covariance matrix of the errors is correctly specified.\n",
       "\"\"\""
      ]
     },
     "execution_count": 18,
     "metadata": {},
     "output_type": "execute_result"
    }
   ],
   "source": [
    "# Run regression:\n",
    "\n",
    "reg = smf.ols('tip ~ total_bill + size', data=df).fit()\n",
    "reg.summary()"
   ]
  },
  {
   "cell_type": "code",
   "execution_count": 19,
   "metadata": {},
   "outputs": [],
   "source": [
    "pred_val = reg.fittedvalues.copy()\n",
    "true_val = df['tip'].values.copy()\n",
    "residual = true_val - pred_val"
   ]
  },
  {
   "cell_type": "code",
   "execution_count": null,
   "metadata": {},
   "outputs": [],
   "source": [
    "residual"
   ]
  },
  {
   "cell_type": "code",
   "execution_count": 21,
   "metadata": {},
   "outputs": [
    {
     "data": {
      "image/png": "[encoded data removed]",
      "text/plain": [
       "<Figure size 720x432 with 1 Axes>"
      ]
     },
     "metadata": {
      "needs_background": "light"
     },
     "output_type": "display_data"
    }
   ],
   "source": [
    "fig, ax = plt.subplots(figsize=(10,6))\n",
    "_ = ax.scatter(residual, pred_val)"
   ]
  },
  {
   "cell_type": "code",
   "execution_count": 26,
   "metadata": {},
   "outputs": [
    {
     "data": {
      "text/plain": [
       "Ttest_1sampResult(statistic=-0.9712769345888475, pvalue=0.33238824391164823)"
      ]
     },
     "execution_count": 26,
     "metadata": {},
     "output_type": "execute_result"
    }
   ],
   "source": [
    "sms.linear_harvey_collier(reg)"
   ]
  },
  {
   "cell_type": "code",
   "execution_count": 29,
   "metadata": {},
   "outputs": [
    {
     "data": {
      "text/plain": [
       "(86.35545133253876,\n",
       " 1.5033355772172123e-20,\n",
       " 66.2820865013135,\n",
       " 1.1091361708523451e-23)"
      ]
     },
     "execution_count": 29,
     "metadata": {},
     "output_type": "execute_result"
    }
   ],
   "source": [
    "lm, lm_pvalue, fvalue, f_pvalue = smd.het_breuschpagan(residual, df[['total_bill', 'tip']])\n",
    "lm, lm_pvalue, fvalue, f_pvalue"
   ]
  },
  {
   "cell_type": "code",
   "execution_count": null,
   "metadata": {},
   "outputs": [],
   "source": []
  },
  {
   "cell_type": "markdown",
   "metadata": {},
   "source": [
    "# Testing  homescedasticy"
   ]
  },
  {
   "cell_type": "code",
   "execution_count": 10,
   "metadata": {},
   "outputs": [],
   "source": [
    "results = smf.ols(formula='tip ~ total_bill', data=df).fit()\n",
    "tip_pred = results.predict(df[[\"total_bill\"]])\n",
    "residual2 = df[\"tip\"].values-tip_pred"
   ]
  },
  {
   "cell_type": "code",
   "execution_count": 11,
   "metadata": {},
   "outputs": [
    {
     "data": {
      "text/plain": [
       "0     -1.694636\n",
       "1     -0.346223\n",
       "2      0.373165\n",
       "3     -0.097250\n",
       "4      0.107178\n",
       "5      1.133660\n",
       "6      0.158665\n",
       "7     -0.623329\n",
       "8     -0.539838\n",
       "9      0.757468\n",
       "10    -0.288871\n",
       "11     0.376566\n",
       "12    -0.969748\n",
       "13     0.144129\n",
       "14     0.542217\n",
       "15     0.733301\n",
       "16    -0.335173\n",
       "17     1.078881\n",
       "18     0.797464\n",
       "19     0.260974\n",
       "20     1.277691\n",
       "21    -0.301217\n",
       "22    -0.346506\n",
       "23     2.519664\n",
       "24     0.178144\n",
       "25    -0.450756\n",
       "26    -0.324447\n",
       "27    -0.253031\n",
       "28     1.100698\n",
       "29     0.015999\n",
       "         ...   \n",
       "214    2.621190\n",
       "215   -1.175086\n",
       "216   -0.876710\n",
       "217   -0.637504\n",
       "218   -0.293159\n",
       "219   -0.995709\n",
       "220    0.002632\n",
       "221    1.150301\n",
       "222    0.098620\n",
       "223    0.401439\n",
       "224   -0.749699\n",
       "225   -0.129019\n",
       "226    0.020033\n",
       "227   -0.068021\n",
       "228    0.405005\n",
       "229   -0.363412\n",
       "230   -1.441908\n",
       "231    0.431896\n",
       "232    1.250396\n",
       "233   -0.581384\n",
       "234    0.448700\n",
       "235   -0.727867\n",
       "236   -1.243579\n",
       "237   -3.198225\n",
       "238   -0.013298\n",
       "239    1.950869\n",
       "240   -1.774836\n",
       "241   -1.301175\n",
       "242   -1.041807\n",
       "243    0.107370\n",
       "Length: 244, dtype: float64"
      ]
     },
     "execution_count": 11,
     "metadata": {},
     "output_type": "execute_result"
    }
   ],
   "source": [
    "residual2"
   ]
  },
  {
   "cell_type": "code",
   "execution_count": 15,
   "metadata": {},
   "outputs": [],
   "source": [
    "reg = smf.ols('tip ~ total_bill', data=df).fit()\n",
    "pred_val = reg.fittedvalues.copy()\n",
    "true_val = df['tip'].values.copy()\n",
    "residual = true_val - pred_val"
   ]
  },
  {
   "cell_type": "code",
   "execution_count": 16,
   "metadata": {},
   "outputs": [
    {
     "data": {
      "text/plain": [
       "0     -1.694636\n",
       "1     -0.346223\n",
       "2      0.373165\n",
       "3     -0.097250\n",
       "4      0.107178\n",
       "5      1.133660\n",
       "6      0.158665\n",
       "7     -0.623329\n",
       "8     -0.539838\n",
       "9      0.757468\n",
       "10    -0.288871\n",
       "11     0.376566\n",
       "12    -0.969748\n",
       "13     0.144129\n",
       "14     0.542217\n",
       "15     0.733301\n",
       "16    -0.335173\n",
       "17     1.078881\n",
       "18     0.797464\n",
       "19     0.260974\n",
       "20     1.277691\n",
       "21    -0.301217\n",
       "22    -0.346506\n",
       "23     2.519664\n",
       "24     0.178144\n",
       "25    -0.450756\n",
       "26    -0.324447\n",
       "27    -0.253031\n",
       "28     1.100698\n",
       "29     0.015999\n",
       "         ...   \n",
       "214    2.621190\n",
       "215   -1.175086\n",
       "216   -0.876710\n",
       "217   -0.637504\n",
       "218   -0.293159\n",
       "219   -0.995709\n",
       "220    0.002632\n",
       "221    1.150301\n",
       "222    0.098620\n",
       "223    0.401439\n",
       "224   -0.749699\n",
       "225   -0.129019\n",
       "226    0.020033\n",
       "227   -0.068021\n",
       "228    0.405005\n",
       "229   -0.363412\n",
       "230   -1.441908\n",
       "231    0.431896\n",
       "232    1.250396\n",
       "233   -0.581384\n",
       "234    0.448700\n",
       "235   -0.727867\n",
       "236   -1.243579\n",
       "237   -3.198225\n",
       "238   -0.013298\n",
       "239    1.950869\n",
       "240   -1.774836\n",
       "241   -1.301175\n",
       "242   -1.041807\n",
       "243    0.107370\n",
       "Length: 244, dtype: float64"
      ]
     },
     "execution_count": 16,
     "metadata": {},
     "output_type": "execute_result"
    }
   ],
   "source": [
    "residual"
   ]
  },
  {
   "cell_type": "code",
   "execution_count": null,
   "metadata": {},
   "outputs": [],
   "source": []
  },
  {
   "cell_type": "markdown",
   "metadata": {},
   "source": [
    "Other way to plot residuals:"
   ]
  },
  {
   "cell_type": "code",
   "execution_count": 17,
   "metadata": {},
   "outputs": [
    {
     "data": {
      "text/plain": [
       "<matplotlib.axes._subplots.AxesSubplot at 0x1c285baf048>"
      ]
     },
     "execution_count": 17,
     "metadata": {},
     "output_type": "execute_result"
    },
    {
     "data": {
      "image/png": "[encoded data removed]",
      "text/plain": [
       "<Figure size 720x432 with 1 Axes>"
      ]
     },
     "metadata": {
      "needs_background": "light"
     },
     "output_type": "display_data"
    }
   ],
   "source": [
    "fig = plt.figure(figsize=(10,6))\n",
    "sns.residplot(df['total_bill'], df['tip'], color=\"rebeccapurple\")"
   ]
  },
  {
   "cell_type": "markdown",
   "metadata": {},
   "source": [
    "Checking homoscedasticity if the outliers are removed:"
   ]
  },
  {
   "cell_type": "code",
   "execution_count": 37,
   "metadata": {},
   "outputs": [],
   "source": [
    "df_new = pd.read_csv(\"tips_outliers_removed.csv\")"
   ]
  },
  {
   "cell_type": "code",
   "execution_count": 42,
   "metadata": {},
   "outputs": [
    {
     "data": {
      "text/plain": [
       "<matplotlib.collections.PathCollection at 0x1c28606b908>"
      ]
     },
     "execution_count": 42,
     "metadata": {},
     "output_type": "execute_result"
    },
    {
     "data": {
      "image/png": "[encoded data removed]",
      "text/plain": [
       "<Figure size 720x432 with 1 Axes>"
      ]
     },
     "metadata": {},
     "output_type": "display_data"
    }
   ],
   "source": [
    "# Run regression:\n",
    "reg = smf.ols('tip ~ total_bill', data=df_new).fit()\n",
    "\n",
    "# Calculating residuals:\n",
    "pred_val = reg.fittedvalues.copy()\n",
    "true_val = df_new['tip'].values.copy()\n",
    "residual = true_val - pred_val\n",
    "\n",
    "# Plotting Residual vs Predicted value\n",
    "fig = plt.figure(figsize=(10,6))\n",
    "plt.scatter(residual, pred_val, color=\"rebeccapurple\")"
   ]
  },
  {
   "cell_type": "code",
   "execution_count": 43,
   "metadata": {},
   "outputs": [
    {
     "data": {
      "text/plain": [
       "[('LM statistic', 70.13184038029004),\n",
       " ('LM-Test p-value', 5.5470346745631234e-17),\n",
       " ('F-statistics', 50.10421158158469),\n",
       " ('F-test p-value', 9.470150533084958e-19)]"
      ]
     },
     "execution_count": 43,
     "metadata": {},
     "output_type": "execute_result"
    }
   ],
   "source": [
    "name = ['LM statistic', 'LM-Test p-value', 'F-statistics', 'F-test p-value']\n",
    "test = smd.het_breuschpagan(residual, df_new[['total_bill', 'tip']])\n",
    "lzip(name, test)"
   ]
  },
  {
   "cell_type": "markdown",
   "metadata": {},
   "source": [
    "# testing hetero csv file"
   ]
  },
  {
   "cell_type": "code",
   "execution_count": 7,
   "metadata": {},
   "outputs": [
    {
     "data": {
      "text/html": [
       "<div>\n",
       "<style scoped>\n",
       "    .dataframe tbody tr th:only-of-type {\n",
       "        vertical-align: middle;\n",
       "    }\n",
       "\n",
       "    .dataframe tbody tr th {\n",
       "        vertical-align: top;\n",
       "    }\n",
       "\n",
       "    .dataframe thead th {\n",
       "        text-align: right;\n",
       "    }\n",
       "</style>\n",
       "<table border=\"1\" class=\"dataframe\">\n",
       "  <thead>\n",
       "    <tr style=\"text-align: right;\">\n",
       "      <th></th>\n",
       "      <th>Accidents</th>\n",
       "      <th>AccidentRate</th>\n",
       "      <th>Population</th>\n",
       "      <th>Weight</th>\n",
       "    </tr>\n",
       "  </thead>\n",
       "  <tbody>\n",
       "    <tr>\n",
       "      <th>0</th>\n",
       "      <td>20</td>\n",
       "      <td>0.000135</td>\n",
       "      <td>147603.98900</td>\n",
       "      <td>0.000007</td>\n",
       "    </tr>\n",
       "    <tr>\n",
       "      <th>1</th>\n",
       "      <td>38</td>\n",
       "      <td>0.000062</td>\n",
       "      <td>611903.15790</td>\n",
       "      <td>0.000002</td>\n",
       "    </tr>\n",
       "    <tr>\n",
       "      <th>2</th>\n",
       "      <td>17</td>\n",
       "      <td>0.000120</td>\n",
       "      <td>141304.46200</td>\n",
       "      <td>0.000007</td>\n",
       "    </tr>\n",
       "    <tr>\n",
       "      <th>3</th>\n",
       "      <td>16</td>\n",
       "      <td>0.000078</td>\n",
       "      <td>204849.50370</td>\n",
       "      <td>0.000005</td>\n",
       "    </tr>\n",
       "    <tr>\n",
       "      <th>4</th>\n",
       "      <td>20</td>\n",
       "      <td>0.000131</td>\n",
       "      <td>152426.47570</td>\n",
       "      <td>0.000007</td>\n",
       "    </tr>\n",
       "    <tr>\n",
       "      <th>5</th>\n",
       "      <td>37</td>\n",
       "      <td>0.000088</td>\n",
       "      <td>421404.95840</td>\n",
       "      <td>0.000002</td>\n",
       "    </tr>\n",
       "    <tr>\n",
       "      <th>6</th>\n",
       "      <td>18</td>\n",
       "      <td>0.000090</td>\n",
       "      <td>200044.22900</td>\n",
       "      <td>0.000005</td>\n",
       "    </tr>\n",
       "    <tr>\n",
       "      <th>7</th>\n",
       "      <td>43</td>\n",
       "      <td>0.000113</td>\n",
       "      <td>381182.06150</td>\n",
       "      <td>0.000003</td>\n",
       "    </tr>\n",
       "    <tr>\n",
       "      <th>8</th>\n",
       "      <td>46</td>\n",
       "      <td>0.000082</td>\n",
       "      <td>560294.83600</td>\n",
       "      <td>0.000002</td>\n",
       "    </tr>\n",
       "    <tr>\n",
       "      <th>9</th>\n",
       "      <td>63</td>\n",
       "      <td>0.000078</td>\n",
       "      <td>803916.23570</td>\n",
       "      <td>0.000001</td>\n",
       "    </tr>\n",
       "    <tr>\n",
       "      <th>10</th>\n",
       "      <td>42</td>\n",
       "      <td>0.000101</td>\n",
       "      <td>417604.82190</td>\n",
       "      <td>0.000002</td>\n",
       "    </tr>\n",
       "    <tr>\n",
       "      <th>11</th>\n",
       "      <td>37</td>\n",
       "      <td>0.000061</td>\n",
       "      <td>605306.82100</td>\n",
       "      <td>0.000002</td>\n",
       "    </tr>\n",
       "    <tr>\n",
       "      <th>12</th>\n",
       "      <td>32</td>\n",
       "      <td>0.000076</td>\n",
       "      <td>418315.50460</td>\n",
       "      <td>0.000002</td>\n",
       "    </tr>\n",
       "    <tr>\n",
       "      <th>13</th>\n",
       "      <td>6</td>\n",
       "      <td>0.000045</td>\n",
       "      <td>132688.66790</td>\n",
       "      <td>0.000008</td>\n",
       "    </tr>\n",
       "    <tr>\n",
       "      <th>14</th>\n",
       "      <td>49</td>\n",
       "      <td>0.000062</td>\n",
       "      <td>787787.18740</td>\n",
       "      <td>0.000001</td>\n",
       "    </tr>\n",
       "    <tr>\n",
       "      <th>15</th>\n",
       "      <td>8</td>\n",
       "      <td>0.000065</td>\n",
       "      <td>122812.40810</td>\n",
       "      <td>0.000008</td>\n",
       "    </tr>\n",
       "    <tr>\n",
       "      <th>16</th>\n",
       "      <td>49</td>\n",
       "      <td>0.000059</td>\n",
       "      <td>824655.68690</td>\n",
       "      <td>0.000001</td>\n",
       "    </tr>\n",
       "    <tr>\n",
       "      <th>17</th>\n",
       "      <td>17</td>\n",
       "      <td>0.000086</td>\n",
       "      <td>197815.28760</td>\n",
       "      <td>0.000005</td>\n",
       "    </tr>\n",
       "    <tr>\n",
       "      <th>18</th>\n",
       "      <td>51</td>\n",
       "      <td>0.000094</td>\n",
       "      <td>543540.65150</td>\n",
       "      <td>0.000002</td>\n",
       "    </tr>\n",
       "    <tr>\n",
       "      <th>19</th>\n",
       "      <td>61</td>\n",
       "      <td>0.000078</td>\n",
       "      <td>779936.71310</td>\n",
       "      <td>0.000001</td>\n",
       "    </tr>\n",
       "    <tr>\n",
       "      <th>20</th>\n",
       "      <td>23</td>\n",
       "      <td>0.000124</td>\n",
       "      <td>185193.09150</td>\n",
       "      <td>0.000005</td>\n",
       "    </tr>\n",
       "    <tr>\n",
       "      <th>21</th>\n",
       "      <td>37</td>\n",
       "      <td>0.000066</td>\n",
       "      <td>563481.24270</td>\n",
       "      <td>0.000002</td>\n",
       "    </tr>\n",
       "    <tr>\n",
       "      <th>22</th>\n",
       "      <td>15</td>\n",
       "      <td>0.000175</td>\n",
       "      <td>85824.73538</td>\n",
       "      <td>0.000012</td>\n",
       "    </tr>\n",
       "    <tr>\n",
       "      <th>23</th>\n",
       "      <td>21</td>\n",
       "      <td>0.000100</td>\n",
       "      <td>210887.77250</td>\n",
       "      <td>0.000005</td>\n",
       "    </tr>\n",
       "    <tr>\n",
       "      <th>24</th>\n",
       "      <td>20</td>\n",
       "      <td>0.000130</td>\n",
       "      <td>153507.78310</td>\n",
       "      <td>0.000007</td>\n",
       "    </tr>\n",
       "    <tr>\n",
       "      <th>25</th>\n",
       "      <td>36</td>\n",
       "      <td>0.000093</td>\n",
       "      <td>387227.92500</td>\n",
       "      <td>0.000003</td>\n",
       "    </tr>\n",
       "    <tr>\n",
       "      <th>26</th>\n",
       "      <td>22</td>\n",
       "      <td>0.000116</td>\n",
       "      <td>190298.62180</td>\n",
       "      <td>0.000005</td>\n",
       "    </tr>\n",
       "    <tr>\n",
       "      <th>27</th>\n",
       "      <td>40</td>\n",
       "      <td>0.000099</td>\n",
       "      <td>404244.19260</td>\n",
       "      <td>0.000002</td>\n",
       "    </tr>\n",
       "    <tr>\n",
       "      <th>28</th>\n",
       "      <td>48</td>\n",
       "      <td>0.000092</td>\n",
       "      <td>522657.24550</td>\n",
       "      <td>0.000002</td>\n",
       "    </tr>\n",
       "    <tr>\n",
       "      <th>29</th>\n",
       "      <td>68</td>\n",
       "      <td>0.000086</td>\n",
       "      <td>787305.82510</td>\n",
       "      <td>0.000001</td>\n",
       "    </tr>\n",
       "    <tr>\n",
       "      <th>...</th>\n",
       "      <td>...</td>\n",
       "      <td>...</td>\n",
       "      <td>...</td>\n",
       "      <td>...</td>\n",
       "    </tr>\n",
       "    <tr>\n",
       "      <th>77</th>\n",
       "      <td>74</td>\n",
       "      <td>0.000093</td>\n",
       "      <td>792945.52710</td>\n",
       "      <td>0.000001</td>\n",
       "    </tr>\n",
       "    <tr>\n",
       "      <th>78</th>\n",
       "      <td>43</td>\n",
       "      <td>0.000136</td>\n",
       "      <td>317227.37730</td>\n",
       "      <td>0.000003</td>\n",
       "    </tr>\n",
       "    <tr>\n",
       "      <th>79</th>\n",
       "      <td>23</td>\n",
       "      <td>0.000129</td>\n",
       "      <td>178195.94900</td>\n",
       "      <td>0.000006</td>\n",
       "    </tr>\n",
       "    <tr>\n",
       "      <th>80</th>\n",
       "      <td>13</td>\n",
       "      <td>0.000049</td>\n",
       "      <td>265422.79290</td>\n",
       "      <td>0.000004</td>\n",
       "    </tr>\n",
       "    <tr>\n",
       "      <th>81</th>\n",
       "      <td>12</td>\n",
       "      <td>0.000099</td>\n",
       "      <td>120971.15500</td>\n",
       "      <td>0.000008</td>\n",
       "    </tr>\n",
       "    <tr>\n",
       "      <th>82</th>\n",
       "      <td>34</td>\n",
       "      <td>0.000078</td>\n",
       "      <td>438347.25610</td>\n",
       "      <td>0.000002</td>\n",
       "    </tr>\n",
       "    <tr>\n",
       "      <th>83</th>\n",
       "      <td>16</td>\n",
       "      <td>0.000095</td>\n",
       "      <td>168030.60810</td>\n",
       "      <td>0.000006</td>\n",
       "    </tr>\n",
       "    <tr>\n",
       "      <th>84</th>\n",
       "      <td>7</td>\n",
       "      <td>0.000087</td>\n",
       "      <td>80375.58110</td>\n",
       "      <td>0.000012</td>\n",
       "    </tr>\n",
       "    <tr>\n",
       "      <th>85</th>\n",
       "      <td>34</td>\n",
       "      <td>0.000105</td>\n",
       "      <td>324861.83270</td>\n",
       "      <td>0.000003</td>\n",
       "    </tr>\n",
       "    <tr>\n",
       "      <th>86</th>\n",
       "      <td>21</td>\n",
       "      <td>0.000071</td>\n",
       "      <td>295723.44090</td>\n",
       "      <td>0.000003</td>\n",
       "    </tr>\n",
       "    <tr>\n",
       "      <th>87</th>\n",
       "      <td>33</td>\n",
       "      <td>0.000097</td>\n",
       "      <td>338809.48110</td>\n",
       "      <td>0.000003</td>\n",
       "    </tr>\n",
       "    <tr>\n",
       "      <th>88</th>\n",
       "      <td>47</td>\n",
       "      <td>0.000092</td>\n",
       "      <td>511781.57000</td>\n",
       "      <td>0.000002</td>\n",
       "    </tr>\n",
       "    <tr>\n",
       "      <th>89</th>\n",
       "      <td>36</td>\n",
       "      <td>0.000121</td>\n",
       "      <td>297607.97030</td>\n",
       "      <td>0.000003</td>\n",
       "    </tr>\n",
       "    <tr>\n",
       "      <th>90</th>\n",
       "      <td>21</td>\n",
       "      <td>0.000080</td>\n",
       "      <td>261336.78410</td>\n",
       "      <td>0.000004</td>\n",
       "    </tr>\n",
       "    <tr>\n",
       "      <th>91</th>\n",
       "      <td>11</td>\n",
       "      <td>0.000069</td>\n",
       "      <td>158517.01680</td>\n",
       "      <td>0.000006</td>\n",
       "    </tr>\n",
       "    <tr>\n",
       "      <th>92</th>\n",
       "      <td>50</td>\n",
       "      <td>0.000084</td>\n",
       "      <td>597243.42580</td>\n",
       "      <td>0.000002</td>\n",
       "    </tr>\n",
       "    <tr>\n",
       "      <th>93</th>\n",
       "      <td>36</td>\n",
       "      <td>0.000086</td>\n",
       "      <td>419981.19500</td>\n",
       "      <td>0.000002</td>\n",
       "    </tr>\n",
       "    <tr>\n",
       "      <th>94</th>\n",
       "      <td>1</td>\n",
       "      <td>0.000033</td>\n",
       "      <td>30000.45029</td>\n",
       "      <td>0.000033</td>\n",
       "    </tr>\n",
       "    <tr>\n",
       "      <th>95</th>\n",
       "      <td>61</td>\n",
       "      <td>0.000085</td>\n",
       "      <td>718577.87110</td>\n",
       "      <td>0.000001</td>\n",
       "    </tr>\n",
       "    <tr>\n",
       "      <th>96</th>\n",
       "      <td>47</td>\n",
       "      <td>0.000127</td>\n",
       "      <td>371481.87030</td>\n",
       "      <td>0.000003</td>\n",
       "    </tr>\n",
       "    <tr>\n",
       "      <th>97</th>\n",
       "      <td>27</td>\n",
       "      <td>0.000127</td>\n",
       "      <td>212765.90750</td>\n",
       "      <td>0.000005</td>\n",
       "    </tr>\n",
       "    <tr>\n",
       "      <th>98</th>\n",
       "      <td>75</td>\n",
       "      <td>0.000097</td>\n",
       "      <td>774742.07650</td>\n",
       "      <td>0.000001</td>\n",
       "    </tr>\n",
       "    <tr>\n",
       "      <th>99</th>\n",
       "      <td>46</td>\n",
       "      <td>0.000060</td>\n",
       "      <td>760859.66410</td>\n",
       "      <td>0.000001</td>\n",
       "    </tr>\n",
       "    <tr>\n",
       "      <th>100</th>\n",
       "      <td>52</td>\n",
       "      <td>0.000097</td>\n",
       "      <td>537541.68340</td>\n",
       "      <td>0.000002</td>\n",
       "    </tr>\n",
       "    <tr>\n",
       "      <th>101</th>\n",
       "      <td>13</td>\n",
       "      <td>0.000144</td>\n",
       "      <td>90257.93236</td>\n",
       "      <td>0.000011</td>\n",
       "    </tr>\n",
       "    <tr>\n",
       "      <th>102</th>\n",
       "      <td>31</td>\n",
       "      <td>0.000095</td>\n",
       "      <td>326001.72050</td>\n",
       "      <td>0.000003</td>\n",
       "    </tr>\n",
       "    <tr>\n",
       "      <th>103</th>\n",
       "      <td>21</td>\n",
       "      <td>0.000102</td>\n",
       "      <td>205872.56250</td>\n",
       "      <td>0.000005</td>\n",
       "    </tr>\n",
       "    <tr>\n",
       "      <th>104</th>\n",
       "      <td>59</td>\n",
       "      <td>0.000109</td>\n",
       "      <td>538845.28010</td>\n",
       "      <td>0.000002</td>\n",
       "    </tr>\n",
       "    <tr>\n",
       "      <th>105</th>\n",
       "      <td>15</td>\n",
       "      <td>0.000213</td>\n",
       "      <td>70410.42964</td>\n",
       "      <td>0.000014</td>\n",
       "    </tr>\n",
       "    <tr>\n",
       "      <th>106</th>\n",
       "      <td>47</td>\n",
       "      <td>0.000089</td>\n",
       "      <td>527698.70360</td>\n",
       "      <td>0.000002</td>\n",
       "    </tr>\n",
       "  </tbody>\n",
       "</table>\n",
       "<p>107 rows × 4 columns</p>\n",
       "</div>"
      ],
      "text/plain": [
       "     Accidents  AccidentRate    Population    Weight\n",
       "0           20      0.000135  147603.98900  0.000007\n",
       "1           38      0.000062  611903.15790  0.000002\n",
       "2           17      0.000120  141304.46200  0.000007\n",
       "3           16      0.000078  204849.50370  0.000005\n",
       "4           20      0.000131  152426.47570  0.000007\n",
       "5           37      0.000088  421404.95840  0.000002\n",
       "6           18      0.000090  200044.22900  0.000005\n",
       "7           43      0.000113  381182.06150  0.000003\n",
       "8           46      0.000082  560294.83600  0.000002\n",
       "9           63      0.000078  803916.23570  0.000001\n",
       "10          42      0.000101  417604.82190  0.000002\n",
       "11          37      0.000061  605306.82100  0.000002\n",
       "12          32      0.000076  418315.50460  0.000002\n",
       "13           6      0.000045  132688.66790  0.000008\n",
       "14          49      0.000062  787787.18740  0.000001\n",
       "15           8      0.000065  122812.40810  0.000008\n",
       "16          49      0.000059  824655.68690  0.000001\n",
       "17          17      0.000086  197815.28760  0.000005\n",
       "18          51      0.000094  543540.65150  0.000002\n",
       "19          61      0.000078  779936.71310  0.000001\n",
       "20          23      0.000124  185193.09150  0.000005\n",
       "21          37      0.000066  563481.24270  0.000002\n",
       "22          15      0.000175   85824.73538  0.000012\n",
       "23          21      0.000100  210887.77250  0.000005\n",
       "24          20      0.000130  153507.78310  0.000007\n",
       "25          36      0.000093  387227.92500  0.000003\n",
       "26          22      0.000116  190298.62180  0.000005\n",
       "27          40      0.000099  404244.19260  0.000002\n",
       "28          48      0.000092  522657.24550  0.000002\n",
       "29          68      0.000086  787305.82510  0.000001\n",
       "..         ...           ...           ...       ...\n",
       "77          74      0.000093  792945.52710  0.000001\n",
       "78          43      0.000136  317227.37730  0.000003\n",
       "79          23      0.000129  178195.94900  0.000006\n",
       "80          13      0.000049  265422.79290  0.000004\n",
       "81          12      0.000099  120971.15500  0.000008\n",
       "82          34      0.000078  438347.25610  0.000002\n",
       "83          16      0.000095  168030.60810  0.000006\n",
       "84           7      0.000087   80375.58110  0.000012\n",
       "85          34      0.000105  324861.83270  0.000003\n",
       "86          21      0.000071  295723.44090  0.000003\n",
       "87          33      0.000097  338809.48110  0.000003\n",
       "88          47      0.000092  511781.57000  0.000002\n",
       "89          36      0.000121  297607.97030  0.000003\n",
       "90          21      0.000080  261336.78410  0.000004\n",
       "91          11      0.000069  158517.01680  0.000006\n",
       "92          50      0.000084  597243.42580  0.000002\n",
       "93          36      0.000086  419981.19500  0.000002\n",
       "94           1      0.000033   30000.45029  0.000033\n",
       "95          61      0.000085  718577.87110  0.000001\n",
       "96          47      0.000127  371481.87030  0.000003\n",
       "97          27      0.000127  212765.90750  0.000005\n",
       "98          75      0.000097  774742.07650  0.000001\n",
       "99          46      0.000060  760859.66410  0.000001\n",
       "100         52      0.000097  537541.68340  0.000002\n",
       "101         13      0.000144   90257.93236  0.000011\n",
       "102         31      0.000095  326001.72050  0.000003\n",
       "103         21      0.000102  205872.56250  0.000005\n",
       "104         59      0.000109  538845.28010  0.000002\n",
       "105         15      0.000213   70410.42964  0.000014\n",
       "106         47      0.000089  527698.70360  0.000002\n",
       "\n",
       "[107 rows x 4 columns]"
      ]
     },
     "execution_count": 7,
     "metadata": {},
     "output_type": "execute_result"
    }
   ],
   "source": [
    "df_het = pd.read_csv(\"hetero.csv\")\n",
    "df_het"
   ]
  },
  {
   "cell_type": "code",
   "execution_count": 31,
   "metadata": {},
   "outputs": [
    {
     "data": {
      "text/plain": [
       "<matplotlib.collections.PathCollection at 0x16441de8b00>"
      ]
     },
     "execution_count": 31,
     "metadata": {},
     "output_type": "execute_result"
    },
    {
     "data": {
      "image/png": "[encoded data removed]",
      "text/plain": [
       "<Figure size 432x288 with 1 Axes>"
      ]
     },
     "metadata": {
      "needs_background": "light"
     },
     "output_type": "display_data"
    }
   ],
   "source": [
    "# Run regression:\n",
    "reg = smf.ols('Accidents ~ Population', data=df_het).fit()\n",
    "\n",
    "# Calculating residuals:\n",
    "pred_val = reg.fittedvalues.copy()\n",
    "true_val = df_het['Accidents'].values.copy()\n",
    "residual = true_val - pred_val\n",
    "\n",
    "\n",
    "#sns.distplot(df_het.residual, color=\"rebeccapurple\")\n",
    "#sns.distplot(df['total_bill'], color=\"rebeccapurple\")\n",
    "\n",
    "# Plotting Residual vs Predicted value\n",
    "#plt.xticks(np.arange(0.00007, 0.00011, 0.00001))\n",
    "plt.scatter(pred_val, residual, color=\"rebeccapurple\")"
   ]
  },
  {
   "cell_type": "markdown",
   "metadata": {},
   "source": [
    "# testing hetero with tips_mod2.csv file (3 outliers removed as per tips_mod csv file"
   ]
  },
  {
   "cell_type": "code",
   "execution_count": 2,
   "metadata": {},
   "outputs": [],
   "source": [
    "df_mod2 = pd.read_csv(\"tips_mod2.csv\")\n",
    "#df_mod2"
   ]
  },
  {
   "cell_type": "markdown",
   "metadata": {},
   "source": [
    "Other way to plot residuals:"
   ]
  },
  {
   "cell_type": "code",
   "execution_count": 3,
   "metadata": {},
   "outputs": [
    {
     "data": {
      "text/plain": [
       "<matplotlib.collections.PathCollection at 0x1e230bd20b8>"
      ]
     },
     "execution_count": 3,
     "metadata": {},
     "output_type": "execute_result"
    },
    {
     "data": {
      "image/png": "[encoded data removed]",
      "text/plain": [
       "<Figure size 432x288 with 1 Axes>"
      ]
     },
     "metadata": {
      "needs_background": "light"
     },
     "output_type": "display_data"
    }
   ],
   "source": [
    "# Run regression:\n",
    "reg = smf.ols('tips_range ~ total_bill', data=df_mod2).fit()\n",
    "\n",
    "# Calculating residuals:\n",
    "pred_val = reg.fittedvalues.copy()\n",
    "true_val = df_mod2['tips_range'].values.copy()\n",
    "residual = true_val - pred_val\n",
    "\n",
    "\n",
    "#sns.distplot(df_het.residual, color=\"rebeccapurple\")\n",
    "#sns.distplot(df['total_bill'], color=\"rebeccapurple\")\n",
    "\n",
    "# Plotting Residual vs Predicted value\n",
    "#plt.xticks(np.arange(0.00007, 0.00011, 0.00001))\n",
    "plt.scatter(pred_val, residual, color=\"rebeccapurple\")"
   ]
  },
  {
   "cell_type": "markdown",
   "metadata": {},
   "source": [
    "Looking for outliers:"
   ]
  },
  {
   "cell_type": "code",
   "execution_count": 47,
   "metadata": {},
   "outputs": [
    {
     "data": {
      "text/plain": [
       "<matplotlib.collections.PathCollection at 0x16443299748>"
      ]
     },
     "execution_count": 47,
     "metadata": {},
     "output_type": "execute_result"
    },
    {
     "data": {
      "image/png": "[encoded data removed]",
      "text/plain": [
       "<Figure size 432x288 with 1 Axes>"
      ]
     },
     "metadata": {
      "needs_background": "light"
     },
     "output_type": "display_data"
    }
   ],
   "source": [
    "plt.scatter(df_mod['total_bill'], df_mod['tips_range'], color=\"rebeccapurple\")"
   ]
  },
  {
   "cell_type": "code",
   "execution_count": 44,
   "metadata": {},
   "outputs": [
    {
     "data": {
      "text/plain": [
       "[('LM statistic', 88.37599581739991),\n",
       " ('LM-Test p-value', 5.412362772387301e-21),\n",
       " ('F-statistics', 69.19574385916478),\n",
       " ('F-test p-value', 1.9583629853731693e-24)]"
      ]
     },
     "execution_count": 44,
     "metadata": {},
     "output_type": "execute_result"
    }
   ],
   "source": [
    "name = ['LM statistic', 'LM-Test p-value', 'F-statistics', 'F-test p-value']\n",
    "test = smd.het_breuschpagan(residual, df_mod2[['total_bill', 'tips_range']])\n",
    "lzip(name, test)"
   ]
  },
  {
   "cell_type": "code",
   "execution_count": 6,
   "metadata": {},
   "outputs": [
    {
     "data": {
      "text/plain": [
       "Text(0, 0.5, 'Tips')"
      ]
     },
     "execution_count": 6,
     "metadata": {},
     "output_type": "execute_result"
    },
    {
     "data": {
      "image/png": "[encoded data removed]",
      "text/plain": [
       "<Figure size 432x288 with 1 Axes>"
      ]
     },
     "metadata": {
      "needs_background": "light"
     },
     "output_type": "display_data"
    }
   ],
   "source": [
    "plt.scatter(df_mod2['total_bill'], df_mod2['tip'], color=\"rebeccapurple\")\n",
    "plt.xlabel(\"Total bill\")\n",
    "plt.ylabel(\"Tips\")"
   ]
  },
  {
   "cell_type": "code",
   "execution_count": 10,
   "metadata": {},
   "outputs": [
    {
     "data": {
      "text/plain": [
       "<seaborn.axisgrid.FacetGrid at 0x1e230f3fc88>"
      ]
     },
     "execution_count": 10,
     "metadata": {},
     "output_type": "execute_result"
    },
    {
     "data": {
      "image/png": "[encoded data removed]",
      "text/plain": [
       "<Figure size 360x360 with 1 Axes>"
      ]
     },
     "metadata": {
      "needs_background": "light"
     },
     "output_type": "display_data"
    }
   ],
   "source": [
    "sns.lmplot(x=\"total_bill\", y=\"tip\", data=df_mod2)"
   ]
  },
  {
   "cell_type": "code",
   "execution_count": null,
   "metadata": {},
   "outputs": [],
   "source": []
  }
 ],
 "metadata": {
  "kernelspec": {
   "display_name": "Python 3",
   "language": "python",
   "name": "python3"
  },
  "language_info": {
   "codemirror_mode": {
    "name": "ipython",
    "version": 3
   },
   "file_extension": ".py",
   "mimetype": "text/x-python",
   "name": "python",
   "nbconvert_exporter": "python",
   "pygments_lexer": "ipython3",
   "version": "3.7.3"
  }
 },
 "nbformat": 4,
 "nbformat_minor": 4
}
